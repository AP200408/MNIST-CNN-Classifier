{
 "cells": [
  {
   "cell_type": "code",
   "execution_count": 1,
   "id": "72e6714c",
   "metadata": {
    "_cell_guid": "b1076dfc-b9ad-4769-8c92-a6c4dae69d19",
    "_uuid": "8f2839f25d086af736a60e9eeb907d3b93b6e0e5",
    "execution": {
     "iopub.execute_input": "2024-03-22T15:01:49.482227Z",
     "iopub.status.busy": "2024-03-22T15:01:49.481844Z",
     "iopub.status.idle": "2024-03-22T15:01:50.871695Z",
     "shell.execute_reply": "2024-03-22T15:01:50.870601Z"
    },
    "papermill": {
     "duration": 1.402068,
     "end_time": "2024-03-22T15:01:50.873990",
     "exception": false,
     "start_time": "2024-03-22T15:01:49.471922",
     "status": "completed"
    },
    "tags": []
   },
   "outputs": [
    {
     "name": "stdout",
     "output_type": "stream",
     "text": [
      "/kaggle/input/mnist-in-csv/mnist_test.csv\n",
      "/kaggle/input/mnist-in-csv/mnist_train.csv\n"
     ]
    }
   ],
   "source": [
    "# This Python 3 environment comes with many helpful analytics libraries installed\n",
    "# It is defined by the kaggle/python Docker image: https://github.com/kaggle/docker-python\n",
    "# For example, here's several helpful packages to load\n",
    "\n",
    "import numpy as np # linear algebra\n",
    "import pandas as pd # data processing, CSV file I/O (e.g. pd.read_csv)\n",
    "\n",
    "# Input data files are available in the read-only \"../input/\" directory\n",
    "# For example, running this (by clicking run or pressing Shift+Enter) will list all files under the input directory\n",
    "\n",
    "import os\n",
    "for dirname, _, filenames in os.walk('/kaggle/input'):\n",
    "    for filename in filenames:\n",
    "        print(os.path.join(dirname, filename))\n",
    "\n",
    "# You can write up to 20GB to the current directory (/kaggle/working/) that gets preserved as output when you create a version using \"Save & Run All\" \n",
    "# You can also write temporary files to /kaggle/temp/, but they won't be saved outside of the current session"
   ]
  },
  {
   "cell_type": "code",
   "execution_count": 2,
   "id": "6d5ac8e3",
   "metadata": {
    "execution": {
     "iopub.execute_input": "2024-03-22T15:01:50.893338Z",
     "iopub.status.busy": "2024-03-22T15:01:50.892581Z",
     "iopub.status.idle": "2024-03-22T15:02:12.727817Z",
     "shell.execute_reply": "2024-03-22T15:02:12.726994Z"
    },
    "papermill": {
     "duration": 21.84706,
     "end_time": "2024-03-22T15:02:12.730238",
     "exception": false,
     "start_time": "2024-03-22T15:01:50.883178",
     "status": "completed"
    },
    "tags": []
   },
   "outputs": [
    {
     "name": "stderr",
     "output_type": "stream",
     "text": [
      "2024-03-22 15:01:57.050775: E external/local_xla/xla/stream_executor/cuda/cuda_dnn.cc:9261] Unable to register cuDNN factory: Attempting to register factory for plugin cuDNN when one has already been registered\n",
      "2024-03-22 15:01:57.050881: E external/local_xla/xla/stream_executor/cuda/cuda_fft.cc:607] Unable to register cuFFT factory: Attempting to register factory for plugin cuFFT when one has already been registered\n",
      "2024-03-22 15:01:57.335323: E external/local_xla/xla/stream_executor/cuda/cuda_blas.cc:1515] Unable to register cuBLAS factory: Attempting to register factory for plugin cuBLAS when one has already been registered\n"
     ]
    }
   ],
   "source": [
    "import matplotlib.pyplot as plt\n",
    "from sklearn.model_selection import StratifiedKFold\n",
    "import tensorflow\n",
    "from tensorflow.keras import layers, models, losses, optimizers"
   ]
  },
  {
   "cell_type": "code",
   "execution_count": 3,
   "id": "b44f3be8",
   "metadata": {
    "execution": {
     "iopub.execute_input": "2024-03-22T15:02:12.748621Z",
     "iopub.status.busy": "2024-03-22T15:02:12.748125Z",
     "iopub.status.idle": "2024-03-22T15:02:19.179973Z",
     "shell.execute_reply": "2024-03-22T15:02:19.178926Z"
    },
    "papermill": {
     "duration": 6.443248,
     "end_time": "2024-03-22T15:02:19.182440",
     "exception": false,
     "start_time": "2024-03-22T15:02:12.739192",
     "status": "completed"
    },
    "tags": []
   },
   "outputs": [],
   "source": [
    "mnist_train = pd.read_csv('/kaggle/input/mnist-in-csv/mnist_train.csv')\n",
    "mnist_test = pd.read_csv('/kaggle/input/mnist-in-csv/mnist_test.csv')"
   ]
  },
  {
   "cell_type": "code",
   "execution_count": 4,
   "id": "36ee71f6",
   "metadata": {
    "execution": {
     "iopub.execute_input": "2024-03-22T15:02:19.200948Z",
     "iopub.status.busy": "2024-03-22T15:02:19.200361Z",
     "iopub.status.idle": "2024-03-22T15:02:19.207465Z",
     "shell.execute_reply": "2024-03-22T15:02:19.206586Z"
    },
    "papermill": {
     "duration": 0.018321,
     "end_time": "2024-03-22T15:02:19.209364",
     "exception": false,
     "start_time": "2024-03-22T15:02:19.191043",
     "status": "completed"
    },
    "tags": []
   },
   "outputs": [
    {
     "data": {
      "text/plain": [
       "((60000, 785), (10000, 785))"
      ]
     },
     "execution_count": 4,
     "metadata": {},
     "output_type": "execute_result"
    }
   ],
   "source": [
    "mnist_train.shape, mnist_test.shape"
   ]
  },
  {
   "cell_type": "code",
   "execution_count": 5,
   "id": "21470291",
   "metadata": {
    "execution": {
     "iopub.execute_input": "2024-03-22T15:02:19.227996Z",
     "iopub.status.busy": "2024-03-22T15:02:19.227349Z",
     "iopub.status.idle": "2024-03-22T15:02:19.232936Z",
     "shell.execute_reply": "2024-03-22T15:02:19.232039Z"
    },
    "papermill": {
     "duration": 0.01722,
     "end_time": "2024-03-22T15:02:19.234999",
     "exception": false,
     "start_time": "2024-03-22T15:02:19.217779",
     "status": "completed"
    },
    "tags": []
   },
   "outputs": [],
   "source": [
    "train_images = mnist_train.iloc[:, 1:]\n",
    "train_labels = mnist_train.iloc[:, 0]\n",
    "test_images = mnist_test.iloc[:, 1:]\n",
    "test_labels = mnist_test.iloc[:, 0]"
   ]
  },
  {
   "cell_type": "code",
   "execution_count": 6,
   "id": "1f0d111e",
   "metadata": {
    "execution": {
     "iopub.execute_input": "2024-03-22T15:02:19.254742Z",
     "iopub.status.busy": "2024-03-22T15:02:19.254218Z",
     "iopub.status.idle": "2024-03-22T15:02:19.260082Z",
     "shell.execute_reply": "2024-03-22T15:02:19.259152Z"
    },
    "papermill": {
     "duration": 0.018176,
     "end_time": "2024-03-22T15:02:19.262173",
     "exception": false,
     "start_time": "2024-03-22T15:02:19.243997",
     "status": "completed"
    },
    "tags": []
   },
   "outputs": [
    {
     "data": {
      "text/plain": [
       "((60000, 784), (60000,))"
      ]
     },
     "execution_count": 6,
     "metadata": {},
     "output_type": "execute_result"
    }
   ],
   "source": [
    "train_images.shape, train_labels.shape"
   ]
  },
  {
   "cell_type": "code",
   "execution_count": 7,
   "id": "ebb2f632",
   "metadata": {
    "execution": {
     "iopub.execute_input": "2024-03-22T15:02:19.280701Z",
     "iopub.status.busy": "2024-03-22T15:02:19.280396Z",
     "iopub.status.idle": "2024-03-22T15:02:19.286730Z",
     "shell.execute_reply": "2024-03-22T15:02:19.285773Z"
    },
    "papermill": {
     "duration": 0.018216,
     "end_time": "2024-03-22T15:02:19.288766",
     "exception": false,
     "start_time": "2024-03-22T15:02:19.270550",
     "status": "completed"
    },
    "tags": []
   },
   "outputs": [
    {
     "data": {
      "text/plain": [
       "((10000, 784), (10000,))"
      ]
     },
     "execution_count": 7,
     "metadata": {},
     "output_type": "execute_result"
    }
   ],
   "source": [
    "test_images.shape, test_labels.shape"
   ]
  },
  {
   "cell_type": "code",
   "execution_count": 8,
   "id": "5162e5f9",
   "metadata": {
    "execution": {
     "iopub.execute_input": "2024-03-22T15:02:19.308147Z",
     "iopub.status.busy": "2024-03-22T15:02:19.307613Z",
     "iopub.status.idle": "2024-03-22T15:02:19.334061Z",
     "shell.execute_reply": "2024-03-22T15:02:19.333045Z"
    },
    "papermill": {
     "duration": 0.038384,
     "end_time": "2024-03-22T15:02:19.336155",
     "exception": false,
     "start_time": "2024-03-22T15:02:19.297771",
     "status": "completed"
    },
    "tags": []
   },
   "outputs": [
    {
     "data": {
      "text/html": [
       "<div>\n",
       "<style scoped>\n",
       "    .dataframe tbody tr th:only-of-type {\n",
       "        vertical-align: middle;\n",
       "    }\n",
       "\n",
       "    .dataframe tbody tr th {\n",
       "        vertical-align: top;\n",
       "    }\n",
       "\n",
       "    .dataframe thead th {\n",
       "        text-align: right;\n",
       "    }\n",
       "</style>\n",
       "<table border=\"1\" class=\"dataframe\">\n",
       "  <thead>\n",
       "    <tr style=\"text-align: right;\">\n",
       "      <th></th>\n",
       "      <th>1x1</th>\n",
       "      <th>1x2</th>\n",
       "      <th>1x3</th>\n",
       "      <th>1x4</th>\n",
       "      <th>1x5</th>\n",
       "      <th>1x6</th>\n",
       "      <th>1x7</th>\n",
       "      <th>1x8</th>\n",
       "      <th>1x9</th>\n",
       "      <th>1x10</th>\n",
       "      <th>...</th>\n",
       "      <th>28x19</th>\n",
       "      <th>28x20</th>\n",
       "      <th>28x21</th>\n",
       "      <th>28x22</th>\n",
       "      <th>28x23</th>\n",
       "      <th>28x24</th>\n",
       "      <th>28x25</th>\n",
       "      <th>28x26</th>\n",
       "      <th>28x27</th>\n",
       "      <th>28x28</th>\n",
       "    </tr>\n",
       "  </thead>\n",
       "  <tbody>\n",
       "    <tr>\n",
       "      <th>0</th>\n",
       "      <td>0</td>\n",
       "      <td>0</td>\n",
       "      <td>0</td>\n",
       "      <td>0</td>\n",
       "      <td>0</td>\n",
       "      <td>0</td>\n",
       "      <td>0</td>\n",
       "      <td>0</td>\n",
       "      <td>0</td>\n",
       "      <td>0</td>\n",
       "      <td>...</td>\n",
       "      <td>0</td>\n",
       "      <td>0</td>\n",
       "      <td>0</td>\n",
       "      <td>0</td>\n",
       "      <td>0</td>\n",
       "      <td>0</td>\n",
       "      <td>0</td>\n",
       "      <td>0</td>\n",
       "      <td>0</td>\n",
       "      <td>0</td>\n",
       "    </tr>\n",
       "    <tr>\n",
       "      <th>1</th>\n",
       "      <td>0</td>\n",
       "      <td>0</td>\n",
       "      <td>0</td>\n",
       "      <td>0</td>\n",
       "      <td>0</td>\n",
       "      <td>0</td>\n",
       "      <td>0</td>\n",
       "      <td>0</td>\n",
       "      <td>0</td>\n",
       "      <td>0</td>\n",
       "      <td>...</td>\n",
       "      <td>0</td>\n",
       "      <td>0</td>\n",
       "      <td>0</td>\n",
       "      <td>0</td>\n",
       "      <td>0</td>\n",
       "      <td>0</td>\n",
       "      <td>0</td>\n",
       "      <td>0</td>\n",
       "      <td>0</td>\n",
       "      <td>0</td>\n",
       "    </tr>\n",
       "    <tr>\n",
       "      <th>2</th>\n",
       "      <td>0</td>\n",
       "      <td>0</td>\n",
       "      <td>0</td>\n",
       "      <td>0</td>\n",
       "      <td>0</td>\n",
       "      <td>0</td>\n",
       "      <td>0</td>\n",
       "      <td>0</td>\n",
       "      <td>0</td>\n",
       "      <td>0</td>\n",
       "      <td>...</td>\n",
       "      <td>0</td>\n",
       "      <td>0</td>\n",
       "      <td>0</td>\n",
       "      <td>0</td>\n",
       "      <td>0</td>\n",
       "      <td>0</td>\n",
       "      <td>0</td>\n",
       "      <td>0</td>\n",
       "      <td>0</td>\n",
       "      <td>0</td>\n",
       "    </tr>\n",
       "    <tr>\n",
       "      <th>3</th>\n",
       "      <td>0</td>\n",
       "      <td>0</td>\n",
       "      <td>0</td>\n",
       "      <td>0</td>\n",
       "      <td>0</td>\n",
       "      <td>0</td>\n",
       "      <td>0</td>\n",
       "      <td>0</td>\n",
       "      <td>0</td>\n",
       "      <td>0</td>\n",
       "      <td>...</td>\n",
       "      <td>0</td>\n",
       "      <td>0</td>\n",
       "      <td>0</td>\n",
       "      <td>0</td>\n",
       "      <td>0</td>\n",
       "      <td>0</td>\n",
       "      <td>0</td>\n",
       "      <td>0</td>\n",
       "      <td>0</td>\n",
       "      <td>0</td>\n",
       "    </tr>\n",
       "    <tr>\n",
       "      <th>4</th>\n",
       "      <td>0</td>\n",
       "      <td>0</td>\n",
       "      <td>0</td>\n",
       "      <td>0</td>\n",
       "      <td>0</td>\n",
       "      <td>0</td>\n",
       "      <td>0</td>\n",
       "      <td>0</td>\n",
       "      <td>0</td>\n",
       "      <td>0</td>\n",
       "      <td>...</td>\n",
       "      <td>0</td>\n",
       "      <td>0</td>\n",
       "      <td>0</td>\n",
       "      <td>0</td>\n",
       "      <td>0</td>\n",
       "      <td>0</td>\n",
       "      <td>0</td>\n",
       "      <td>0</td>\n",
       "      <td>0</td>\n",
       "      <td>0</td>\n",
       "    </tr>\n",
       "  </tbody>\n",
       "</table>\n",
       "<p>5 rows × 784 columns</p>\n",
       "</div>"
      ],
      "text/plain": [
       "   1x1  1x2  1x3  1x4  1x5  1x6  1x7  1x8  1x9  1x10  ...  28x19  28x20  \\\n",
       "0    0    0    0    0    0    0    0    0    0     0  ...      0      0   \n",
       "1    0    0    0    0    0    0    0    0    0     0  ...      0      0   \n",
       "2    0    0    0    0    0    0    0    0    0     0  ...      0      0   \n",
       "3    0    0    0    0    0    0    0    0    0     0  ...      0      0   \n",
       "4    0    0    0    0    0    0    0    0    0     0  ...      0      0   \n",
       "\n",
       "   28x21  28x22  28x23  28x24  28x25  28x26  28x27  28x28  \n",
       "0      0      0      0      0      0      0      0      0  \n",
       "1      0      0      0      0      0      0      0      0  \n",
       "2      0      0      0      0      0      0      0      0  \n",
       "3      0      0      0      0      0      0      0      0  \n",
       "4      0      0      0      0      0      0      0      0  \n",
       "\n",
       "[5 rows x 784 columns]"
      ]
     },
     "execution_count": 8,
     "metadata": {},
     "output_type": "execute_result"
    }
   ],
   "source": [
    "train_images.head()"
   ]
  },
  {
   "cell_type": "code",
   "execution_count": 9,
   "id": "72ca0eb1",
   "metadata": {
    "execution": {
     "iopub.execute_input": "2024-03-22T15:02:19.355730Z",
     "iopub.status.busy": "2024-03-22T15:02:19.355129Z",
     "iopub.status.idle": "2024-03-22T15:02:19.361774Z",
     "shell.execute_reply": "2024-03-22T15:02:19.360907Z"
    },
    "papermill": {
     "duration": 0.01854,
     "end_time": "2024-03-22T15:02:19.363744",
     "exception": false,
     "start_time": "2024-03-22T15:02:19.345204",
     "status": "completed"
    },
    "tags": []
   },
   "outputs": [
    {
     "data": {
      "text/plain": [
       "0    5\n",
       "1    0\n",
       "2    4\n",
       "3    1\n",
       "4    9\n",
       "Name: label, dtype: int64"
      ]
     },
     "execution_count": 9,
     "metadata": {},
     "output_type": "execute_result"
    }
   ],
   "source": [
    "train_labels.head()"
   ]
  },
  {
   "cell_type": "code",
   "execution_count": 10,
   "id": "05fbd121",
   "metadata": {
    "execution": {
     "iopub.execute_input": "2024-03-22T15:02:19.383329Z",
     "iopub.status.busy": "2024-03-22T15:02:19.382962Z",
     "iopub.status.idle": "2024-03-22T15:02:19.400159Z",
     "shell.execute_reply": "2024-03-22T15:02:19.399230Z"
    },
    "papermill": {
     "duration": 0.029859,
     "end_time": "2024-03-22T15:02:19.402584",
     "exception": false,
     "start_time": "2024-03-22T15:02:19.372725",
     "status": "completed"
    },
    "tags": []
   },
   "outputs": [
    {
     "data": {
      "text/html": [
       "<div>\n",
       "<style scoped>\n",
       "    .dataframe tbody tr th:only-of-type {\n",
       "        vertical-align: middle;\n",
       "    }\n",
       "\n",
       "    .dataframe tbody tr th {\n",
       "        vertical-align: top;\n",
       "    }\n",
       "\n",
       "    .dataframe thead th {\n",
       "        text-align: right;\n",
       "    }\n",
       "</style>\n",
       "<table border=\"1\" class=\"dataframe\">\n",
       "  <thead>\n",
       "    <tr style=\"text-align: right;\">\n",
       "      <th></th>\n",
       "      <th>1x1</th>\n",
       "      <th>1x2</th>\n",
       "      <th>1x3</th>\n",
       "      <th>1x4</th>\n",
       "      <th>1x5</th>\n",
       "      <th>1x6</th>\n",
       "      <th>1x7</th>\n",
       "      <th>1x8</th>\n",
       "      <th>1x9</th>\n",
       "      <th>1x10</th>\n",
       "      <th>...</th>\n",
       "      <th>28x19</th>\n",
       "      <th>28x20</th>\n",
       "      <th>28x21</th>\n",
       "      <th>28x22</th>\n",
       "      <th>28x23</th>\n",
       "      <th>28x24</th>\n",
       "      <th>28x25</th>\n",
       "      <th>28x26</th>\n",
       "      <th>28x27</th>\n",
       "      <th>28x28</th>\n",
       "    </tr>\n",
       "  </thead>\n",
       "  <tbody>\n",
       "    <tr>\n",
       "      <th>0</th>\n",
       "      <td>0</td>\n",
       "      <td>0</td>\n",
       "      <td>0</td>\n",
       "      <td>0</td>\n",
       "      <td>0</td>\n",
       "      <td>0</td>\n",
       "      <td>0</td>\n",
       "      <td>0</td>\n",
       "      <td>0</td>\n",
       "      <td>0</td>\n",
       "      <td>...</td>\n",
       "      <td>0</td>\n",
       "      <td>0</td>\n",
       "      <td>0</td>\n",
       "      <td>0</td>\n",
       "      <td>0</td>\n",
       "      <td>0</td>\n",
       "      <td>0</td>\n",
       "      <td>0</td>\n",
       "      <td>0</td>\n",
       "      <td>0</td>\n",
       "    </tr>\n",
       "    <tr>\n",
       "      <th>1</th>\n",
       "      <td>0</td>\n",
       "      <td>0</td>\n",
       "      <td>0</td>\n",
       "      <td>0</td>\n",
       "      <td>0</td>\n",
       "      <td>0</td>\n",
       "      <td>0</td>\n",
       "      <td>0</td>\n",
       "      <td>0</td>\n",
       "      <td>0</td>\n",
       "      <td>...</td>\n",
       "      <td>0</td>\n",
       "      <td>0</td>\n",
       "      <td>0</td>\n",
       "      <td>0</td>\n",
       "      <td>0</td>\n",
       "      <td>0</td>\n",
       "      <td>0</td>\n",
       "      <td>0</td>\n",
       "      <td>0</td>\n",
       "      <td>0</td>\n",
       "    </tr>\n",
       "    <tr>\n",
       "      <th>2</th>\n",
       "      <td>0</td>\n",
       "      <td>0</td>\n",
       "      <td>0</td>\n",
       "      <td>0</td>\n",
       "      <td>0</td>\n",
       "      <td>0</td>\n",
       "      <td>0</td>\n",
       "      <td>0</td>\n",
       "      <td>0</td>\n",
       "      <td>0</td>\n",
       "      <td>...</td>\n",
       "      <td>0</td>\n",
       "      <td>0</td>\n",
       "      <td>0</td>\n",
       "      <td>0</td>\n",
       "      <td>0</td>\n",
       "      <td>0</td>\n",
       "      <td>0</td>\n",
       "      <td>0</td>\n",
       "      <td>0</td>\n",
       "      <td>0</td>\n",
       "    </tr>\n",
       "    <tr>\n",
       "      <th>3</th>\n",
       "      <td>0</td>\n",
       "      <td>0</td>\n",
       "      <td>0</td>\n",
       "      <td>0</td>\n",
       "      <td>0</td>\n",
       "      <td>0</td>\n",
       "      <td>0</td>\n",
       "      <td>0</td>\n",
       "      <td>0</td>\n",
       "      <td>0</td>\n",
       "      <td>...</td>\n",
       "      <td>0</td>\n",
       "      <td>0</td>\n",
       "      <td>0</td>\n",
       "      <td>0</td>\n",
       "      <td>0</td>\n",
       "      <td>0</td>\n",
       "      <td>0</td>\n",
       "      <td>0</td>\n",
       "      <td>0</td>\n",
       "      <td>0</td>\n",
       "    </tr>\n",
       "    <tr>\n",
       "      <th>4</th>\n",
       "      <td>0</td>\n",
       "      <td>0</td>\n",
       "      <td>0</td>\n",
       "      <td>0</td>\n",
       "      <td>0</td>\n",
       "      <td>0</td>\n",
       "      <td>0</td>\n",
       "      <td>0</td>\n",
       "      <td>0</td>\n",
       "      <td>0</td>\n",
       "      <td>...</td>\n",
       "      <td>0</td>\n",
       "      <td>0</td>\n",
       "      <td>0</td>\n",
       "      <td>0</td>\n",
       "      <td>0</td>\n",
       "      <td>0</td>\n",
       "      <td>0</td>\n",
       "      <td>0</td>\n",
       "      <td>0</td>\n",
       "      <td>0</td>\n",
       "    </tr>\n",
       "  </tbody>\n",
       "</table>\n",
       "<p>5 rows × 784 columns</p>\n",
       "</div>"
      ],
      "text/plain": [
       "   1x1  1x2  1x3  1x4  1x5  1x6  1x7  1x8  1x9  1x10  ...  28x19  28x20  \\\n",
       "0    0    0    0    0    0    0    0    0    0     0  ...      0      0   \n",
       "1    0    0    0    0    0    0    0    0    0     0  ...      0      0   \n",
       "2    0    0    0    0    0    0    0    0    0     0  ...      0      0   \n",
       "3    0    0    0    0    0    0    0    0    0     0  ...      0      0   \n",
       "4    0    0    0    0    0    0    0    0    0     0  ...      0      0   \n",
       "\n",
       "   28x21  28x22  28x23  28x24  28x25  28x26  28x27  28x28  \n",
       "0      0      0      0      0      0      0      0      0  \n",
       "1      0      0      0      0      0      0      0      0  \n",
       "2      0      0      0      0      0      0      0      0  \n",
       "3      0      0      0      0      0      0      0      0  \n",
       "4      0      0      0      0      0      0      0      0  \n",
       "\n",
       "[5 rows x 784 columns]"
      ]
     },
     "execution_count": 10,
     "metadata": {},
     "output_type": "execute_result"
    }
   ],
   "source": [
    "test_images.head()"
   ]
  },
  {
   "cell_type": "code",
   "execution_count": 11,
   "id": "35b3555b",
   "metadata": {
    "execution": {
     "iopub.execute_input": "2024-03-22T15:02:19.423043Z",
     "iopub.status.busy": "2024-03-22T15:02:19.422672Z",
     "iopub.status.idle": "2024-03-22T15:02:19.429365Z",
     "shell.execute_reply": "2024-03-22T15:02:19.428484Z"
    },
    "papermill": {
     "duration": 0.01905,
     "end_time": "2024-03-22T15:02:19.431306",
     "exception": false,
     "start_time": "2024-03-22T15:02:19.412256",
     "status": "completed"
    },
    "tags": []
   },
   "outputs": [
    {
     "data": {
      "text/plain": [
       "0    7\n",
       "1    2\n",
       "2    1\n",
       "3    0\n",
       "4    4\n",
       "Name: label, dtype: int64"
      ]
     },
     "execution_count": 11,
     "metadata": {},
     "output_type": "execute_result"
    }
   ],
   "source": [
    "test_labels.head()"
   ]
  },
  {
   "cell_type": "code",
   "execution_count": 12,
   "id": "5cc1cfd1",
   "metadata": {
    "execution": {
     "iopub.execute_input": "2024-03-22T15:02:19.453624Z",
     "iopub.status.busy": "2024-03-22T15:02:19.452827Z",
     "iopub.status.idle": "2024-03-22T15:02:19.460737Z",
     "shell.execute_reply": "2024-03-22T15:02:19.459750Z"
    },
    "papermill": {
     "duration": 0.021446,
     "end_time": "2024-03-22T15:02:19.463128",
     "exception": false,
     "start_time": "2024-03-22T15:02:19.441682",
     "status": "completed"
    },
    "tags": []
   },
   "outputs": [
    {
     "data": {
      "text/plain": [
       "(1x1      0\n",
       " 1x2      0\n",
       " 1x3      0\n",
       " 1x4      0\n",
       " 1x5      0\n",
       "         ..\n",
       " 28x24    0\n",
       " 28x25    0\n",
       " 28x26    0\n",
       " 28x27    0\n",
       " 28x28    0\n",
       " Name: 0, Length: 784, dtype: int64,\n",
       " 5)"
      ]
     },
     "execution_count": 12,
     "metadata": {},
     "output_type": "execute_result"
    }
   ],
   "source": [
    "train_images.loc[0], train_labels.loc[0]"
   ]
  },
  {
   "cell_type": "code",
   "execution_count": 13,
   "id": "584af0a4",
   "metadata": {
    "execution": {
     "iopub.execute_input": "2024-03-22T15:02:19.485442Z",
     "iopub.status.busy": "2024-03-22T15:02:19.484855Z",
     "iopub.status.idle": "2024-03-22T15:02:19.881757Z",
     "shell.execute_reply": "2024-03-22T15:02:19.880748Z"
    },
    "papermill": {
     "duration": 0.409885,
     "end_time": "2024-03-22T15:02:19.884052",
     "exception": false,
     "start_time": "2024-03-22T15:02:19.474167",
     "status": "completed"
    },
    "tags": []
   },
   "outputs": [
    {
     "data": {
      "image/png": "[encoded data removed]",
      "text/plain": [
       "<Figure size 640x480 with 2 Axes>"
      ]
     },
     "metadata": {},
     "output_type": "display_data"
    }
   ],
   "source": [
    "# Visualize the first and second images\n",
    "plt.subplot(1, 2, 1)  # Subplot 1\n",
    "plt.imshow(train_images.loc[0].values.reshape(28, 28), cmap='gray')\n",
    "plt.title(f'{train_labels.loc[0]}')\n",
    "\n",
    "plt.subplot(1, 2, 2)  # Subplot 2\n",
    "plt.imshow(train_images.loc[1].values.reshape(28, 28), cmap='gray')\n",
    "plt.title(f'{train_labels.loc[1]}')\n",
    "\n",
    "plt.show()"
   ]
  },
  {
   "cell_type": "code",
   "execution_count": 14,
   "id": "9b729df3",
   "metadata": {
    "execution": {
     "iopub.execute_input": "2024-03-22T15:02:19.905538Z",
     "iopub.status.busy": "2024-03-22T15:02:19.905224Z",
     "iopub.status.idle": "2024-03-22T15:02:21.052698Z",
     "shell.execute_reply": "2024-03-22T15:02:21.051716Z"
    },
    "papermill": {
     "duration": 1.160861,
     "end_time": "2024-03-22T15:02:21.055281",
     "exception": false,
     "start_time": "2024-03-22T15:02:19.894420",
     "status": "completed"
    },
    "tags": []
   },
   "outputs": [
    {
     "data": {
      "image/png": "[encoded data removed]",
      "text/plain": [
       "<Figure size 1000x1000 with 25 Axes>"
      ]
     },
     "metadata": {},
     "output_type": "display_data"
    }
   ],
   "source": [
    "# Sample images visualization\n",
    "plt.figure(figsize=(10, 10))\n",
    "for i in range(25):\n",
    "    plt.subplot(5, 5, i + 1)\n",
    "    plt.xticks([])\n",
    "    plt.yticks([])\n",
    "    plt.grid(False)\n",
    "    plt.imshow(train_images.values[i].reshape(28, 28), cmap=plt.cm.binary)\n",
    "    plt.xlabel(train_labels.values[i])\n",
    "plt.show()"
   ]
  },
  {
   "cell_type": "code",
   "execution_count": 15,
   "id": "98d36e9d",
   "metadata": {
    "execution": {
     "iopub.execute_input": "2024-03-22T15:02:21.079340Z",
     "iopub.status.busy": "2024-03-22T15:02:21.079044Z",
     "iopub.status.idle": "2024-03-22T15:02:21.337585Z",
     "shell.execute_reply": "2024-03-22T15:02:21.336558Z"
    },
    "papermill": {
     "duration": 0.272832,
     "end_time": "2024-03-22T15:02:21.339776",
     "exception": false,
     "start_time": "2024-03-22T15:02:21.066944",
     "status": "completed"
    },
    "tags": []
   },
   "outputs": [
    {
     "data": {
      "image/png": "[encoded data removed]",
      "text/plain": [
       "<Figure size 640x480 with 1 Axes>"
      ]
     },
     "metadata": {},
     "output_type": "display_data"
    }
   ],
   "source": [
    "# Distribution of labels\n",
    "plt.hist(train_labels, bins=range(11), rwidth=0.8, align='left')\n",
    "plt.xticks(range(10))\n",
    "plt.xlabel('Label')\n",
    "plt.ylabel('Count')\n",
    "plt.title('Distribution of Labels')\n",
    "plt.show()"
   ]
  },
  {
   "cell_type": "code",
   "execution_count": 16,
   "id": "4d68a5b4",
   "metadata": {
    "execution": {
     "iopub.execute_input": "2024-03-22T15:02:21.363630Z",
     "iopub.status.busy": "2024-03-22T15:02:21.363310Z",
     "iopub.status.idle": "2024-03-22T15:02:21.769674Z",
     "shell.execute_reply": "2024-03-22T15:02:21.768234Z"
    },
    "papermill": {
     "duration": 0.421153,
     "end_time": "2024-03-22T15:02:21.772160",
     "exception": false,
     "start_time": "2024-03-22T15:02:21.351007",
     "status": "completed"
    },
    "tags": []
   },
   "outputs": [
    {
     "name": "stdout",
     "output_type": "stream",
     "text": [
      "Minimum pixel value: 0\n",
      "Maximum pixel value: 255\n",
      "Mean pixel value: 33.318421449829934\n",
      "Standard deviation of pixel values: 78.56748998339742\n"
     ]
    }
   ],
   "source": [
    "# Statistics\n",
    "print(\"Minimum pixel value:\", np.min(train_images.values))\n",
    "print(\"Maximum pixel value:\", np.max(train_images.values))\n",
    "print(\"Mean pixel value:\", np.mean(train_images.values))\n",
    "print(\"Standard deviation of pixel values:\", np.std(train_images.values))"
   ]
  },
  {
   "cell_type": "code",
   "execution_count": 17,
   "id": "f4c3bc7c",
   "metadata": {
    "execution": {
     "iopub.execute_input": "2024-03-22T15:02:21.799305Z",
     "iopub.status.busy": "2024-03-22T15:02:21.798458Z",
     "iopub.status.idle": "2024-03-22T15:02:21.887818Z",
     "shell.execute_reply": "2024-03-22T15:02:21.886970Z"
    },
    "papermill": {
     "duration": 0.105893,
     "end_time": "2024-03-22T15:02:21.890265",
     "exception": false,
     "start_time": "2024-03-22T15:02:21.784372",
     "status": "completed"
    },
    "tags": []
   },
   "outputs": [],
   "source": [
    "train_images, test_images = train_images / 255.0, test_images / 255.0"
   ]
  },
  {
   "cell_type": "code",
   "execution_count": 18,
   "id": "9c7a8823",
   "metadata": {
    "execution": {
     "iopub.execute_input": "2024-03-22T15:02:21.915051Z",
     "iopub.status.busy": "2024-03-22T15:02:21.914698Z",
     "iopub.status.idle": "2024-03-22T15:02:21.919681Z",
     "shell.execute_reply": "2024-03-22T15:02:21.918802Z"
    },
    "papermill": {
     "duration": 0.019848,
     "end_time": "2024-03-22T15:02:21.921887",
     "exception": false,
     "start_time": "2024-03-22T15:02:21.902039",
     "status": "completed"
    },
    "tags": []
   },
   "outputs": [],
   "source": [
    "# Add a channel dimension\n",
    "train_images = train_images.values.reshape(-1, 28, 28, 1)\n",
    "test_images = test_images.values.reshape(-1, 28, 28, 1)"
   ]
  },
  {
   "cell_type": "code",
   "execution_count": 19,
   "id": "3d6b1081",
   "metadata": {
    "execution": {
     "iopub.execute_input": "2024-03-22T15:02:21.946806Z",
     "iopub.status.busy": "2024-03-22T15:02:21.946514Z",
     "iopub.status.idle": "2024-03-22T15:02:24.079626Z",
     "shell.execute_reply": "2024-03-22T15:02:24.078738Z"
    },
    "papermill": {
     "duration": 2.148505,
     "end_time": "2024-03-22T15:02:24.082236",
     "exception": false,
     "start_time": "2024-03-22T15:02:21.933731",
     "status": "completed"
    },
    "tags": []
   },
   "outputs": [],
   "source": [
    "# Create TensorFlow datasets\n",
    "train_ds = tensorflow.data.Dataset.from_tensor_slices((train_images, train_labels)).shuffle(10000).batch(64)\n",
    "test_ds = tensorflow.data.Dataset.from_tensor_slices((test_images, test_labels)).batch(64)"
   ]
  },
  {
   "cell_type": "code",
   "execution_count": 20,
   "id": "cf457f5a",
   "metadata": {
    "execution": {
     "iopub.execute_input": "2024-03-22T15:02:24.109879Z",
     "iopub.status.busy": "2024-03-22T15:02:24.109413Z",
     "iopub.status.idle": "2024-03-22T15:02:24.219356Z",
     "shell.execute_reply": "2024-03-22T15:02:24.218529Z"
    },
    "papermill": {
     "duration": 0.126205,
     "end_time": "2024-03-22T15:02:24.221680",
     "exception": false,
     "start_time": "2024-03-22T15:02:24.095475",
     "status": "completed"
    },
    "tags": []
   },
   "outputs": [],
   "source": [
    "# Define the CNN model\n",
    "model = models.Sequential([\n",
    "    layers.Input(shape=(28, 28, 1)),\n",
    "    layers.Conv2D(32, (3, 3), activation='relu'),\n",
    "    layers.MaxPooling2D((2, 2)),\n",
    "    layers.Conv2D(64, (3, 3), activation='relu'),\n",
    "    layers.MaxPooling2D((2, 2)),\n",
    "    layers.Flatten(),\n",
    "    layers.Dense(128, activation='relu'),\n",
    "    layers.Dense(10)\n",
    "])"
   ]
  },
  {
   "cell_type": "code",
   "execution_count": 21,
   "id": "a252761e",
   "metadata": {
    "execution": {
     "iopub.execute_input": "2024-03-22T15:02:24.246724Z",
     "iopub.status.busy": "2024-03-22T15:02:24.246379Z",
     "iopub.status.idle": "2024-03-22T15:02:24.259028Z",
     "shell.execute_reply": "2024-03-22T15:02:24.258014Z"
    },
    "papermill": {
     "duration": 0.027869,
     "end_time": "2024-03-22T15:02:24.261169",
     "exception": false,
     "start_time": "2024-03-22T15:02:24.233300",
     "status": "completed"
    },
    "tags": []
   },
   "outputs": [],
   "source": [
    "# Compile the model\n",
    "model.compile(optimizer='Adam',\n",
    "              loss=losses.SparseCategoricalCrossentropy(from_logits=True),\n",
    "              metrics=['accuracy'])"
   ]
  },
  {
   "cell_type": "code",
   "execution_count": 22,
   "id": "d068f50c",
   "metadata": {
    "execution": {
     "iopub.execute_input": "2024-03-22T15:02:24.284594Z",
     "iopub.status.busy": "2024-03-22T15:02:24.284286Z",
     "iopub.status.idle": "2024-03-22T15:03:30.390984Z",
     "shell.execute_reply": "2024-03-22T15:03:30.389783Z"
    },
    "papermill": {
     "duration": 66.120908,
     "end_time": "2024-03-22T15:03:30.393266",
     "exception": false,
     "start_time": "2024-03-22T15:02:24.272358",
     "status": "completed"
    },
    "tags": []
   },
   "outputs": [
    {
     "name": "stdout",
     "output_type": "stream",
     "text": [
      "Epoch 1/25\n",
      "\u001b[1m 65/938\u001b[0m \u001b[32m━\u001b[0m\u001b[37m━━━━━━━━━━━━━━━━━━━\u001b[0m \u001b[1m2s\u001b[0m 2ms/step - accuracy: 0.5498 - loss: 1.4167"
     ]
    },
    {
     "name": "stderr",
     "output_type": "stream",
     "text": [
      "WARNING: All log messages before absl::InitializeLog() is called are written to STDERR\n",
      "I0000 00:00:1711119750.787164      73 device_compiler.h:186] Compiled cluster using XLA!  This line is logged at most once for the lifetime of the process.\n",
      "W0000 00:00:1711119750.806094      73 graph_launch.cc:671] Fallback to op-by-op mode because memset node breaks graph update\n"
     ]
    },
    {
     "name": "stdout",
     "output_type": "stream",
     "text": [
      "\u001b[1m938/938\u001b[0m \u001b[32m━━━━━━━━━━━━━━━━━━━━\u001b[0m\u001b[37m\u001b[0m \u001b[1m10s\u001b[0m 4ms/step - accuracy: 0.8884 - loss: 0.3649\n",
      "Epoch 2/25\n",
      "\u001b[1m 67/938\u001b[0m \u001b[32m━\u001b[0m\u001b[37m━━━━━━━━━━━━━━━━━━━\u001b[0m \u001b[1m2s\u001b[0m 2ms/step - accuracy: 0.9826 - loss: 0.0646"
     ]
    },
    {
     "name": "stderr",
     "output_type": "stream",
     "text": [
      "W0000 00:00:1711119754.669359      72 graph_launch.cc:671] Fallback to op-by-op mode because memset node breaks graph update\n"
     ]
    },
    {
     "name": "stdout",
     "output_type": "stream",
     "text": [
      "\u001b[1m938/938\u001b[0m \u001b[32m━━━━━━━━━━━━━━━━━━━━\u001b[0m\u001b[37m\u001b[0m \u001b[1m2s\u001b[0m 2ms/step - accuracy: 0.9838 - loss: 0.0539\n",
      "Epoch 3/25\n",
      "\u001b[1m938/938\u001b[0m \u001b[32m━━━━━━━━━━━━━━━━━━━━\u001b[0m\u001b[37m\u001b[0m \u001b[1m2s\u001b[0m 2ms/step - accuracy: 0.9899 - loss: 0.0339\n",
      "Epoch 4/25\n",
      "\u001b[1m938/938\u001b[0m \u001b[32m━━━━━━━━━━━━━━━━━━━━\u001b[0m\u001b[37m\u001b[0m \u001b[1m2s\u001b[0m 2ms/step - accuracy: 0.9925 - loss: 0.0242\n",
      "Epoch 5/25\n",
      "\u001b[1m938/938\u001b[0m \u001b[32m━━━━━━━━━━━━━━━━━━━━\u001b[0m\u001b[37m\u001b[0m \u001b[1m2s\u001b[0m 2ms/step - accuracy: 0.9944 - loss: 0.0179\n",
      "Epoch 6/25\n",
      "\u001b[1m938/938\u001b[0m \u001b[32m━━━━━━━━━━━━━━━━━━━━\u001b[0m\u001b[37m\u001b[0m \u001b[1m2s\u001b[0m 2ms/step - accuracy: 0.9949 - loss: 0.0149\n",
      "Epoch 7/25\n",
      "\u001b[1m938/938\u001b[0m \u001b[32m━━━━━━━━━━━━━━━━━━━━\u001b[0m\u001b[37m\u001b[0m \u001b[1m2s\u001b[0m 3ms/step - accuracy: 0.9962 - loss: 0.0111\n",
      "Epoch 8/25\n",
      "\u001b[1m938/938\u001b[0m \u001b[32m━━━━━━━━━━━━━━━━━━━━\u001b[0m\u001b[37m\u001b[0m \u001b[1m2s\u001b[0m 2ms/step - accuracy: 0.9971 - loss: 0.0089\n",
      "Epoch 9/25\n",
      "\u001b[1m938/938\u001b[0m \u001b[32m━━━━━━━━━━━━━━━━━━━━\u001b[0m\u001b[37m\u001b[0m \u001b[1m2s\u001b[0m 2ms/step - accuracy: 0.9970 - loss: 0.0085\n",
      "Epoch 10/25\n",
      "\u001b[1m938/938\u001b[0m \u001b[32m━━━━━━━━━━━━━━━━━━━━\u001b[0m\u001b[37m\u001b[0m \u001b[1m2s\u001b[0m 2ms/step - accuracy: 0.9970 - loss: 0.0083\n",
      "Epoch 11/25\n",
      "\u001b[1m938/938\u001b[0m \u001b[32m━━━━━━━━━━━━━━━━━━━━\u001b[0m\u001b[37m\u001b[0m \u001b[1m2s\u001b[0m 2ms/step - accuracy: 0.9983 - loss: 0.0054\n",
      "Epoch 12/25\n",
      "\u001b[1m938/938\u001b[0m \u001b[32m━━━━━━━━━━━━━━━━━━━━\u001b[0m\u001b[37m\u001b[0m \u001b[1m2s\u001b[0m 2ms/step - accuracy: 0.9978 - loss: 0.0060\n",
      "Epoch 13/25\n",
      "\u001b[1m938/938\u001b[0m \u001b[32m━━━━━━━━━━━━━━━━━━━━\u001b[0m\u001b[37m\u001b[0m \u001b[1m2s\u001b[0m 2ms/step - accuracy: 0.9987 - loss: 0.0041\n",
      "Epoch 14/25\n",
      "\u001b[1m938/938\u001b[0m \u001b[32m━━━━━━━━━━━━━━━━━━━━\u001b[0m\u001b[37m\u001b[0m \u001b[1m2s\u001b[0m 2ms/step - accuracy: 0.9987 - loss: 0.0039\n",
      "Epoch 15/25\n",
      "\u001b[1m938/938\u001b[0m \u001b[32m━━━━━━━━━━━━━━━━━━━━\u001b[0m\u001b[37m\u001b[0m \u001b[1m2s\u001b[0m 2ms/step - accuracy: 0.9985 - loss: 0.0046\n",
      "Epoch 16/25\n",
      "\u001b[1m938/938\u001b[0m \u001b[32m━━━━━━━━━━━━━━━━━━━━\u001b[0m\u001b[37m\u001b[0m \u001b[1m2s\u001b[0m 2ms/step - accuracy: 0.9990 - loss: 0.0029\n",
      "Epoch 17/25\n",
      "\u001b[1m938/938\u001b[0m \u001b[32m━━━━━━━━━━━━━━━━━━━━\u001b[0m\u001b[37m\u001b[0m \u001b[1m2s\u001b[0m 2ms/step - accuracy: 0.9989 - loss: 0.0038\n",
      "Epoch 18/25\n",
      "\u001b[1m938/938\u001b[0m \u001b[32m━━━━━━━━━━━━━━━━━━━━\u001b[0m\u001b[37m\u001b[0m \u001b[1m2s\u001b[0m 2ms/step - accuracy: 0.9985 - loss: 0.0040\n",
      "Epoch 19/25\n",
      "\u001b[1m938/938\u001b[0m \u001b[32m━━━━━━━━━━━━━━━━━━━━\u001b[0m\u001b[37m\u001b[0m \u001b[1m2s\u001b[0m 2ms/step - accuracy: 0.9993 - loss: 0.0023\n",
      "Epoch 20/25\n",
      "\u001b[1m938/938\u001b[0m \u001b[32m━━━━━━━━━━━━━━━━━━━━\u001b[0m\u001b[37m\u001b[0m \u001b[1m2s\u001b[0m 3ms/step - accuracy: 0.9990 - loss: 0.0030\n",
      "Epoch 21/25\n",
      "\u001b[1m938/938\u001b[0m \u001b[32m━━━━━━━━━━━━━━━━━━━━\u001b[0m\u001b[37m\u001b[0m \u001b[1m2s\u001b[0m 3ms/step - accuracy: 0.9988 - loss: 0.0033\n",
      "Epoch 22/25\n",
      "\u001b[1m938/938\u001b[0m \u001b[32m━━━━━━━━━━━━━━━━━━━━\u001b[0m\u001b[37m\u001b[0m \u001b[1m2s\u001b[0m 2ms/step - accuracy: 0.9992 - loss: 0.0031\n",
      "Epoch 23/25\n",
      "\u001b[1m938/938\u001b[0m \u001b[32m━━━━━━━━━━━━━━━━━━━━\u001b[0m\u001b[37m\u001b[0m \u001b[1m2s\u001b[0m 3ms/step - accuracy: 0.9993 - loss: 0.0019\n",
      "Epoch 24/25\n",
      "\u001b[1m938/938\u001b[0m \u001b[32m━━━━━━━━━━━━━━━━━━━━\u001b[0m\u001b[37m\u001b[0m \u001b[1m2s\u001b[0m 2ms/step - accuracy: 0.9994 - loss: 0.0017\n",
      "Epoch 25/25\n",
      "\u001b[1m938/938\u001b[0m \u001b[32m━━━━━━━━━━━━━━━━━━━━\u001b[0m\u001b[37m\u001b[0m \u001b[1m2s\u001b[0m 2ms/step - accuracy: 0.9996 - loss: 8.9240e-04\n"
     ]
    }
   ],
   "source": [
    "# Train the model\n",
    "history = model.fit(train_ds, epochs=25)"
   ]
  },
  {
   "cell_type": "code",
   "execution_count": 23,
   "id": "d42b43bd",
   "metadata": {
    "execution": {
     "iopub.execute_input": "2024-03-22T15:03:30.617425Z",
     "iopub.status.busy": "2024-03-22T15:03:30.616727Z",
     "iopub.status.idle": "2024-03-22T15:03:32.264615Z",
     "shell.execute_reply": "2024-03-22T15:03:32.263502Z"
    },
    "papermill": {
     "duration": 1.762852,
     "end_time": "2024-03-22T15:03:32.266917",
     "exception": false,
     "start_time": "2024-03-22T15:03:30.504065",
     "status": "completed"
    },
    "tags": []
   },
   "outputs": [
    {
     "name": "stderr",
     "output_type": "stream",
     "text": [
      "W0000 00:00:1711119811.253766      73 graph_launch.cc:671] Fallback to op-by-op mode because memset node breaks graph update\n"
     ]
    },
    {
     "name": "stdout",
     "output_type": "stream",
     "text": [
      "157/157 - 2s - 10ms/step - accuracy: 0.9909 - loss: 0.0411\n",
      "\n",
      "Test accuracy: 0.9908999800682068\n"
     ]
    },
    {
     "name": "stderr",
     "output_type": "stream",
     "text": [
      "W0000 00:00:1711119812.255272      74 graph_launch.cc:671] Fallback to op-by-op mode because memset node breaks graph update\n"
     ]
    }
   ],
   "source": [
    "# Evaluate the model\n",
    "test_loss, test_acc = model.evaluate(test_ds, verbose=2)\n",
    "print('\\nTest accuracy:', test_acc)"
   ]
  },
  {
   "cell_type": "code",
   "execution_count": 24,
   "id": "e79c7403",
   "metadata": {
    "execution": {
     "iopub.execute_input": "2024-03-22T15:03:32.552614Z",
     "iopub.status.busy": "2024-03-22T15:03:32.552253Z",
     "iopub.status.idle": "2024-03-22T15:03:32.844447Z",
     "shell.execute_reply": "2024-03-22T15:03:32.843388Z"
    },
    "papermill": {
     "duration": 0.413427,
     "end_time": "2024-03-22T15:03:32.846743",
     "exception": false,
     "start_time": "2024-03-22T15:03:32.433316",
     "status": "completed"
    },
    "tags": []
   },
   "outputs": [
    {
     "data": {
      "text/plain": [
       "[<matplotlib.lines.Line2D at 0x7bdf106ca5f0>]"
      ]
     },
     "execution_count": 24,
     "metadata": {},
     "output_type": "execute_result"
    },
    {
     "data": {
      "image/png": "[encoded data removed]",
      "text/plain": [
       "<Figure size 640x480 with 1 Axes>"
      ]
     },
     "metadata": {},
     "output_type": "display_data"
    }
   ],
   "source": [
    "plt.plot(history.history['loss'])"
   ]
  },
  {
   "cell_type": "code",
   "execution_count": 25,
   "id": "5b9e2963",
   "metadata": {
    "execution": {
     "iopub.execute_input": "2024-03-22T15:03:33.086638Z",
     "iopub.status.busy": "2024-03-22T15:03:33.085718Z",
     "iopub.status.idle": "2024-03-22T15:03:33.349939Z",
     "shell.execute_reply": "2024-03-22T15:03:33.349004Z"
    },
    "papermill": {
     "duration": 0.388125,
     "end_time": "2024-03-22T15:03:33.352229",
     "exception": false,
     "start_time": "2024-03-22T15:03:32.964104",
     "status": "completed"
    },
    "tags": []
   },
   "outputs": [
    {
     "data": {
      "text/plain": [
       "[<matplotlib.lines.Line2D at 0x7bdf10239e40>]"
      ]
     },
     "execution_count": 25,
     "metadata": {},
     "output_type": "execute_result"
    },
    {
     "data": {
      "image/png": "[encoded data removed]",
      "text/plain": [
       "<Figure size 640x480 with 1 Axes>"
      ]
     },
     "metadata": {},
     "output_type": "display_data"
    }
   ],
   "source": [
    "plt.plot(history.history['accuracy'])"
   ]
  },
  {
   "cell_type": "code",
   "execution_count": 26,
   "id": "f7ee84de",
   "metadata": {
    "execution": {
     "iopub.execute_input": "2024-03-22T15:03:33.586905Z",
     "iopub.status.busy": "2024-03-22T15:03:33.586493Z",
     "iopub.status.idle": "2024-03-22T15:03:33.869114Z",
     "shell.execute_reply": "2024-03-22T15:03:33.868053Z"
    },
    "papermill": {
     "duration": 0.400661,
     "end_time": "2024-03-22T15:03:33.871396",
     "exception": false,
     "start_time": "2024-03-22T15:03:33.470735",
     "status": "completed"
    },
    "tags": []
   },
   "outputs": [
    {
     "data": {
      "text/plain": [
       "<matplotlib.image.AxesImage at 0x7bdf102869e0>"
      ]
     },
     "execution_count": 26,
     "metadata": {},
     "output_type": "execute_result"
    },
    {
     "data": {
      "image/png": "[encoded data removed]",
      "text/plain": [
       "<Figure size 640x480 with 1 Axes>"
      ]
     },
     "metadata": {},
     "output_type": "display_data"
    }
   ],
   "source": [
    "plt.imshow(test_images.reshape(-1, 28, 28)[175])"
   ]
  },
  {
   "cell_type": "code",
   "execution_count": 27,
   "id": "127cd4fa",
   "metadata": {
    "execution": {
     "iopub.execute_input": "2024-03-22T15:03:34.108522Z",
     "iopub.status.busy": "2024-03-22T15:03:34.107488Z",
     "iopub.status.idle": "2024-03-22T15:03:34.794417Z",
     "shell.execute_reply": "2024-03-22T15:03:34.793216Z"
    },
    "papermill": {
     "duration": 0.804736,
     "end_time": "2024-03-22T15:03:34.796753",
     "exception": false,
     "start_time": "2024-03-22T15:03:33.992017",
     "status": "completed"
    },
    "tags": []
   },
   "outputs": [
    {
     "name": "stdout",
     "output_type": "stream",
     "text": [
      "\u001b[1m1/1\u001b[0m \u001b[32m━━━━━━━━━━━━━━━━━━━━\u001b[0m\u001b[37m\u001b[0m \u001b[1m1s\u001b[0m 617ms/step\n"
     ]
    },
    {
     "data": {
      "text/plain": [
       "array([7])"
      ]
     },
     "execution_count": 27,
     "metadata": {},
     "output_type": "execute_result"
    }
   ],
   "source": [
    "model.predict(test_images[175].reshape(1,28,28)).argmax(axis=1)"
   ]
  },
  {
   "cell_type": "code",
   "execution_count": 28,
   "id": "bcfa512f",
   "metadata": {
    "execution": {
     "iopub.execute_input": "2024-03-22T15:03:35.044141Z",
     "iopub.status.busy": "2024-03-22T15:03:35.043719Z",
     "iopub.status.idle": "2024-03-22T15:05:30.233573Z",
     "shell.execute_reply": "2024-03-22T15:05:30.232488Z"
    },
    "papermill": {
     "duration": 115.435629,
     "end_time": "2024-03-22T15:05:30.354872",
     "exception": false,
     "start_time": "2024-03-22T15:03:34.919243",
     "status": "completed"
    },
    "tags": []
   },
   "outputs": [
    {
     "name": "stderr",
     "output_type": "stream",
     "text": [
      "/opt/conda/lib/python3.10/site-packages/keras/src/layers/convolutional/base_conv.py:99: UserWarning: Do not pass an `input_shape`/`input_dim` argument to a layer. When using Sequential models, prefer using an `Input(shape)` object as the first layer in the model instead.\n",
      "  super().__init__(\n",
      "W0000 00:00:1711119818.359331      73 graph_launch.cc:671] Fallback to op-by-op mode because memset node breaks graph update\n",
      "W0000 00:00:1711119822.430497      72 graph_launch.cc:671] Fallback to op-by-op mode because memset node breaks graph update\n",
      "/opt/conda/lib/python3.10/site-packages/keras/src/layers/convolutional/base_conv.py:99: UserWarning: Do not pass an `input_shape`/`input_dim` argument to a layer. When using Sequential models, prefer using an `Input(shape)` object as the first layer in the model instead.\n",
      "  super().__init__(\n",
      "W0000 00:00:1711119841.807371      75 graph_launch.cc:671] Fallback to op-by-op mode because memset node breaks graph update\n",
      "W0000 00:00:1711119845.735345      73 graph_launch.cc:671] Fallback to op-by-op mode because memset node breaks graph update\n",
      "/opt/conda/lib/python3.10/site-packages/keras/src/layers/convolutional/base_conv.py:99: UserWarning: Do not pass an `input_shape`/`input_dim` argument to a layer. When using Sequential models, prefer using an `Input(shape)` object as the first layer in the model instead.\n",
      "  super().__init__(\n",
      "W0000 00:00:1711119864.677349      75 graph_launch.cc:671] Fallback to op-by-op mode because memset node breaks graph update\n",
      "W0000 00:00:1711119868.554557      72 graph_launch.cc:671] Fallback to op-by-op mode because memset node breaks graph update\n",
      "/opt/conda/lib/python3.10/site-packages/keras/src/layers/convolutional/base_conv.py:99: UserWarning: Do not pass an `input_shape`/`input_dim` argument to a layer. When using Sequential models, prefer using an `Input(shape)` object as the first layer in the model instead.\n",
      "  super().__init__(\n",
      "W0000 00:00:1711119887.379157      75 graph_launch.cc:671] Fallback to op-by-op mode because memset node breaks graph update\n",
      "W0000 00:00:1711119891.165797      72 graph_launch.cc:671] Fallback to op-by-op mode because memset node breaks graph update\n",
      "/opt/conda/lib/python3.10/site-packages/keras/src/layers/convolutional/base_conv.py:99: UserWarning: Do not pass an `input_shape`/`input_dim` argument to a layer. When using Sequential models, prefer using an `Input(shape)` object as the first layer in the model instead.\n",
      "  super().__init__(\n",
      "W0000 00:00:1711119910.092454      74 graph_launch.cc:671] Fallback to op-by-op mode because memset node breaks graph update\n",
      "W0000 00:00:1711119913.807169      75 graph_launch.cc:671] Fallback to op-by-op mode because memset node breaks graph update\n"
     ]
    },
    {
     "name": "stdout",
     "output_type": "stream",
     "text": [
      "Mean Accuracy: 0.9881166696548462\n",
      "Mean Loss: 0.043674010783433914\n"
     ]
    }
   ],
   "source": [
    "# Concatenate train_images and train_labels\n",
    "X = train_images.reshape(-1, 28, 28, 1)  # Reshape for Conv2D input\n",
    "y = train_labels\n",
    "\n",
    "# Initialize StratifiedKFold\n",
    "skf = StratifiedKFold(n_splits=5, shuffle=True, random_state=42)\n",
    "\n",
    "# Initialize lists to store scores\n",
    "accuracies = []\n",
    "losses = []\n",
    "\n",
    "# Iterate over each fold\n",
    "for train_index, val_index in skf.split(X, y):\n",
    "    # Split data into train and validation sets\n",
    "    X_train, X_val = X[train_index], X[val_index]\n",
    "    y_train, y_val = y[train_index], y[val_index]\n",
    "\n",
    "    # Define the model\n",
    "    model = models.Sequential([\n",
    "        layers.Conv2D(32, (3, 3), activation='relu', input_shape=(28, 28, 1)),\n",
    "        layers.MaxPooling2D((2, 2)),\n",
    "        layers.Conv2D(64, (3, 3), activation='relu'),\n",
    "        layers.MaxPooling2D((2, 2)),\n",
    "        layers.Flatten(),\n",
    "        layers.Dense(128, activation='relu'),\n",
    "        layers.Dense(10)\n",
    "    ])\n",
    "\n",
    "    # Compile the model\n",
    "    model.compile(optimizer='adam',\n",
    "                  loss=tensorflow.keras.losses.SparseCategoricalCrossentropy(from_logits=True),\n",
    "                  metrics=['accuracy'])\n",
    "\n",
    "    # Train the model\n",
    "    history = model.fit(X_train, y_train, epochs=5, validation_data=(X_val, y_val), verbose=0)\n",
    "\n",
    "    # Evaluate the model on validation set\n",
    "    val_loss, val_acc = model.evaluate(X_val, y_val, verbose=0)\n",
    "\n",
    "    # Append validation accuracy and loss to lists\n",
    "    accuracies.append(val_acc)\n",
    "    losses.append(val_loss)\n",
    "\n",
    "# Calculate mean accuracy and loss\n",
    "mean_accuracy = np.mean(accuracies)\n",
    "mean_loss = np.mean(losses)\n",
    "\n",
    "print(\"Mean Accuracy:\", mean_accuracy)\n",
    "print(\"Mean Loss:\", mean_loss)"
   ]
  }
 ],
 "metadata": {
  "kaggle": {
   "accelerator": "nvidiaTeslaT4",
   "dataSources": [
    {
     "datasetId": 27352,
     "sourceId": 34877,
     "sourceType": "datasetVersion"
    }
   ],
   "dockerImageVersionId": 30674,
   "isGpuEnabled": true,
   "isInternetEnabled": true,
   "language": "python",
   "sourceType": "notebook"
  },
  "kernelspec": {
   "display_name": "Python 3",
   "language": "python",
   "name": "python3"
  },
  "language_info": {
   "codemirror_mode": {
    "name": "ipython",
    "version": 3
   },
   "file_extension": ".py",
   "mimetype": "text/x-python",
   "name": "python",
   "nbconvert_exporter": "python",
   "pygments_lexer": "ipython3",
   "version": "3.10.13"
  },
  "papermill": {
   "default_parameters": {},
   "duration": 228.318374,
   "end_time": "2024-03-22T15:05:33.468115",
   "environment_variables": {},
   "exception": null,
   "input_path": "__notebook__.ipynb",
   "output_path": "__notebook__.ipynb",
   "parameters": {},
   "start_time": "2024-03-22T15:01:45.149741",
   "version": "2.5.0"
  }
 },
 "nbformat": 4,
 "nbformat_minor": 5
}
