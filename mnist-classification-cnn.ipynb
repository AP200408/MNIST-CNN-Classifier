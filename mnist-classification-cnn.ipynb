{
 "cells": [
  {
   "cell_type": "code",
   "execution_count": 1,
   "id": "28fd50fe",
   "metadata": {
    "_cell_guid": "b1076dfc-b9ad-4769-8c92-a6c4dae69d19",
    "_uuid": "8f2839f25d086af736a60e9eeb907d3b93b6e0e5",
    "execution": {
     "iopub.execute_input": "2024-03-22T12:10:44.010020Z",
     "iopub.status.busy": "2024-03-22T12:10:44.009349Z",
     "iopub.status.idle": "2024-03-22T12:10:44.854333Z",
     "shell.execute_reply": "2024-03-22T12:10:44.853418Z"
    },
    "papermill": {
     "duration": 0.855408,
     "end_time": "2024-03-22T12:10:44.856349",
     "exception": false,
     "start_time": "2024-03-22T12:10:44.000941",
     "status": "completed"
    },
    "tags": []
   },
   "outputs": [
    {
     "name": "stdout",
     "output_type": "stream",
     "text": [
      "/kaggle/input/mnist-in-csv/mnist_test.csv\n",
      "/kaggle/input/mnist-in-csv/mnist_train.csv\n"
     ]
    }
   ],
   "source": [
    "# This Python 3 environment comes with many helpful analytics libraries installed\n",
    "# It is defined by the kaggle/python Docker image: https://github.com/kaggle/docker-python\n",
    "# For example, here's several helpful packages to load\n",
    "\n",
    "import numpy as np # linear algebra\n",
    "import pandas as pd # data processing, CSV file I/O (e.g. pd.read_csv)\n",
    "\n",
    "# Input data files are available in the read-only \"../input/\" directory\n",
    "# For example, running this (by clicking run or pressing Shift+Enter) will list all files under the input directory\n",
    "\n",
    "import os\n",
    "for dirname, _, filenames in os.walk('/kaggle/input'):\n",
    "    for filename in filenames:\n",
    "        print(os.path.join(dirname, filename))\n",
    "\n",
    "# You can write up to 20GB to the current directory (/kaggle/working/) that gets preserved as output when you create a version using \"Save & Run All\" \n",
    "# You can also write temporary files to /kaggle/temp/, but they won't be saved outside of the current session"
   ]
  },
  {
   "cell_type": "code",
   "execution_count": 2,
   "id": "7f9230b7",
   "metadata": {
    "execution": {
     "iopub.execute_input": "2024-03-22T12:10:44.871568Z",
     "iopub.status.busy": "2024-03-22T12:10:44.871220Z",
     "iopub.status.idle": "2024-03-22T12:10:57.780551Z",
     "shell.execute_reply": "2024-03-22T12:10:57.779528Z"
    },
    "papermill": {
     "duration": 12.919423,
     "end_time": "2024-03-22T12:10:57.782951",
     "exception": false,
     "start_time": "2024-03-22T12:10:44.863528",
     "status": "completed"
    },
    "tags": []
   },
   "outputs": [
    {
     "name": "stderr",
     "output_type": "stream",
     "text": [
      "2024-03-22 12:10:46.979035: E external/local_xla/xla/stream_executor/cuda/cuda_dnn.cc:9261] Unable to register cuDNN factory: Attempting to register factory for plugin cuDNN when one has already been registered\n",
      "2024-03-22 12:10:46.979174: E external/local_xla/xla/stream_executor/cuda/cuda_fft.cc:607] Unable to register cuFFT factory: Attempting to register factory for plugin cuFFT when one has already been registered\n",
      "2024-03-22 12:10:47.129998: E external/local_xla/xla/stream_executor/cuda/cuda_blas.cc:1515] Unable to register cuBLAS factory: Attempting to register factory for plugin cuBLAS when one has already been registered\n"
     ]
    }
   ],
   "source": [
    "import matplotlib.pyplot as plt\n",
    "import tensorflow as tf\n",
    "from tensorflow.keras import layers, models, losses, optimizers"
   ]
  },
  {
   "cell_type": "code",
   "execution_count": 3,
   "id": "f9ce817b",
   "metadata": {
    "execution": {
     "iopub.execute_input": "2024-03-22T12:10:57.798849Z",
     "iopub.status.busy": "2024-03-22T12:10:57.798303Z",
     "iopub.status.idle": "2024-03-22T12:11:03.332016Z",
     "shell.execute_reply": "2024-03-22T12:11:03.331091Z"
    },
    "papermill": {
     "duration": 5.544397,
     "end_time": "2024-03-22T12:11:03.334625",
     "exception": false,
     "start_time": "2024-03-22T12:10:57.790228",
     "status": "completed"
    },
    "tags": []
   },
   "outputs": [],
   "source": [
    "mnist_train = pd.read_csv('/kaggle/input/mnist-in-csv/mnist_train.csv')\n",
    "mnist_test = pd.read_csv('/kaggle/input/mnist-in-csv/mnist_test.csv')"
   ]
  },
  {
   "cell_type": "code",
   "execution_count": 4,
   "id": "7e38a3a2",
   "metadata": {
    "execution": {
     "iopub.execute_input": "2024-03-22T12:11:03.353714Z",
     "iopub.status.busy": "2024-03-22T12:11:03.352776Z",
     "iopub.status.idle": "2024-03-22T12:11:03.360421Z",
     "shell.execute_reply": "2024-03-22T12:11:03.359530Z"
    },
    "papermill": {
     "duration": 0.019436,
     "end_time": "2024-03-22T12:11:03.362685",
     "exception": false,
     "start_time": "2024-03-22T12:11:03.343249",
     "status": "completed"
    },
    "tags": []
   },
   "outputs": [
    {
     "data": {
      "text/plain": [
       "((60000, 785), (10000, 785))"
      ]
     },
     "execution_count": 4,
     "metadata": {},
     "output_type": "execute_result"
    }
   ],
   "source": [
    "mnist_train.shape, mnist_test.shape"
   ]
  },
  {
   "cell_type": "code",
   "execution_count": 5,
   "id": "ed3ee14e",
   "metadata": {
    "execution": {
     "iopub.execute_input": "2024-03-22T12:11:03.380491Z",
     "iopub.status.busy": "2024-03-22T12:11:03.380186Z",
     "iopub.status.idle": "2024-03-22T12:11:03.385952Z",
     "shell.execute_reply": "2024-03-22T12:11:03.385020Z"
    },
    "papermill": {
     "duration": 0.017118,
     "end_time": "2024-03-22T12:11:03.388123",
     "exception": false,
     "start_time": "2024-03-22T12:11:03.371005",
     "status": "completed"
    },
    "tags": []
   },
   "outputs": [],
   "source": [
    "train_images = mnist_train.iloc[:, 1:]\n",
    "train_labels = mnist_train.iloc[:, 0]\n",
    "test_images = mnist_test.iloc[:, 1:]\n",
    "test_labels = mnist_test.iloc[:, 0]"
   ]
  },
  {
   "cell_type": "code",
   "execution_count": 6,
   "id": "17f3964a",
   "metadata": {
    "execution": {
     "iopub.execute_input": "2024-03-22T12:11:03.405937Z",
     "iopub.status.busy": "2024-03-22T12:11:03.405413Z",
     "iopub.status.idle": "2024-03-22T12:11:03.411484Z",
     "shell.execute_reply": "2024-03-22T12:11:03.410537Z"
    },
    "papermill": {
     "duration": 0.017242,
     "end_time": "2024-03-22T12:11:03.413584",
     "exception": false,
     "start_time": "2024-03-22T12:11:03.396342",
     "status": "completed"
    },
    "tags": []
   },
   "outputs": [
    {
     "data": {
      "text/plain": [
       "((60000, 784), (60000,))"
      ]
     },
     "execution_count": 6,
     "metadata": {},
     "output_type": "execute_result"
    }
   ],
   "source": [
    "train_images.shape, train_labels.shape"
   ]
  },
  {
   "cell_type": "code",
   "execution_count": 7,
   "id": "4e7854a2",
   "metadata": {
    "execution": {
     "iopub.execute_input": "2024-03-22T12:11:03.431412Z",
     "iopub.status.busy": "2024-03-22T12:11:03.431131Z",
     "iopub.status.idle": "2024-03-22T12:11:03.436848Z",
     "shell.execute_reply": "2024-03-22T12:11:03.435987Z"
    },
    "papermill": {
     "duration": 0.016601,
     "end_time": "2024-03-22T12:11:03.438769",
     "exception": false,
     "start_time": "2024-03-22T12:11:03.422168",
     "status": "completed"
    },
    "tags": []
   },
   "outputs": [
    {
     "data": {
      "text/plain": [
       "((10000, 784), (10000,))"
      ]
     },
     "execution_count": 7,
     "metadata": {},
     "output_type": "execute_result"
    }
   ],
   "source": [
    "test_images.shape, test_labels.shape"
   ]
  },
  {
   "cell_type": "code",
   "execution_count": 8,
   "id": "0485cc42",
   "metadata": {
    "execution": {
     "iopub.execute_input": "2024-03-22T12:11:03.455359Z",
     "iopub.status.busy": "2024-03-22T12:11:03.455096Z",
     "iopub.status.idle": "2024-03-22T12:11:03.474862Z",
     "shell.execute_reply": "2024-03-22T12:11:03.474010Z"
    },
    "papermill": {
     "duration": 0.029578,
     "end_time": "2024-03-22T12:11:03.476714",
     "exception": false,
     "start_time": "2024-03-22T12:11:03.447136",
     "status": "completed"
    },
    "tags": []
   },
   "outputs": [
    {
     "data": {
      "text/html": [
       "<div>\n",
       "<style scoped>\n",
       "    .dataframe tbody tr th:only-of-type {\n",
       "        vertical-align: middle;\n",
       "    }\n",
       "\n",
       "    .dataframe tbody tr th {\n",
       "        vertical-align: top;\n",
       "    }\n",
       "\n",
       "    .dataframe thead th {\n",
       "        text-align: right;\n",
       "    }\n",
       "</style>\n",
       "<table border=\"1\" class=\"dataframe\">\n",
       "  <thead>\n",
       "    <tr style=\"text-align: right;\">\n",
       "      <th></th>\n",
       "      <th>1x1</th>\n",
       "      <th>1x2</th>\n",
       "      <th>1x3</th>\n",
       "      <th>1x4</th>\n",
       "      <th>1x5</th>\n",
       "      <th>1x6</th>\n",
       "      <th>1x7</th>\n",
       "      <th>1x8</th>\n",
       "      <th>1x9</th>\n",
       "      <th>1x10</th>\n",
       "      <th>...</th>\n",
       "      <th>28x19</th>\n",
       "      <th>28x20</th>\n",
       "      <th>28x21</th>\n",
       "      <th>28x22</th>\n",
       "      <th>28x23</th>\n",
       "      <th>28x24</th>\n",
       "      <th>28x25</th>\n",
       "      <th>28x26</th>\n",
       "      <th>28x27</th>\n",
       "      <th>28x28</th>\n",
       "    </tr>\n",
       "  </thead>\n",
       "  <tbody>\n",
       "    <tr>\n",
       "      <th>0</th>\n",
       "      <td>0</td>\n",
       "      <td>0</td>\n",
       "      <td>0</td>\n",
       "      <td>0</td>\n",
       "      <td>0</td>\n",
       "      <td>0</td>\n",
       "      <td>0</td>\n",
       "      <td>0</td>\n",
       "      <td>0</td>\n",
       "      <td>0</td>\n",
       "      <td>...</td>\n",
       "      <td>0</td>\n",
       "      <td>0</td>\n",
       "      <td>0</td>\n",
       "      <td>0</td>\n",
       "      <td>0</td>\n",
       "      <td>0</td>\n",
       "      <td>0</td>\n",
       "      <td>0</td>\n",
       "      <td>0</td>\n",
       "      <td>0</td>\n",
       "    </tr>\n",
       "    <tr>\n",
       "      <th>1</th>\n",
       "      <td>0</td>\n",
       "      <td>0</td>\n",
       "      <td>0</td>\n",
       "      <td>0</td>\n",
       "      <td>0</td>\n",
       "      <td>0</td>\n",
       "      <td>0</td>\n",
       "      <td>0</td>\n",
       "      <td>0</td>\n",
       "      <td>0</td>\n",
       "      <td>...</td>\n",
       "      <td>0</td>\n",
       "      <td>0</td>\n",
       "      <td>0</td>\n",
       "      <td>0</td>\n",
       "      <td>0</td>\n",
       "      <td>0</td>\n",
       "      <td>0</td>\n",
       "      <td>0</td>\n",
       "      <td>0</td>\n",
       "      <td>0</td>\n",
       "    </tr>\n",
       "    <tr>\n",
       "      <th>2</th>\n",
       "      <td>0</td>\n",
       "      <td>0</td>\n",
       "      <td>0</td>\n",
       "      <td>0</td>\n",
       "      <td>0</td>\n",
       "      <td>0</td>\n",
       "      <td>0</td>\n",
       "      <td>0</td>\n",
       "      <td>0</td>\n",
       "      <td>0</td>\n",
       "      <td>...</td>\n",
       "      <td>0</td>\n",
       "      <td>0</td>\n",
       "      <td>0</td>\n",
       "      <td>0</td>\n",
       "      <td>0</td>\n",
       "      <td>0</td>\n",
       "      <td>0</td>\n",
       "      <td>0</td>\n",
       "      <td>0</td>\n",
       "      <td>0</td>\n",
       "    </tr>\n",
       "    <tr>\n",
       "      <th>3</th>\n",
       "      <td>0</td>\n",
       "      <td>0</td>\n",
       "      <td>0</td>\n",
       "      <td>0</td>\n",
       "      <td>0</td>\n",
       "      <td>0</td>\n",
       "      <td>0</td>\n",
       "      <td>0</td>\n",
       "      <td>0</td>\n",
       "      <td>0</td>\n",
       "      <td>...</td>\n",
       "      <td>0</td>\n",
       "      <td>0</td>\n",
       "      <td>0</td>\n",
       "      <td>0</td>\n",
       "      <td>0</td>\n",
       "      <td>0</td>\n",
       "      <td>0</td>\n",
       "      <td>0</td>\n",
       "      <td>0</td>\n",
       "      <td>0</td>\n",
       "    </tr>\n",
       "    <tr>\n",
       "      <th>4</th>\n",
       "      <td>0</td>\n",
       "      <td>0</td>\n",
       "      <td>0</td>\n",
       "      <td>0</td>\n",
       "      <td>0</td>\n",
       "      <td>0</td>\n",
       "      <td>0</td>\n",
       "      <td>0</td>\n",
       "      <td>0</td>\n",
       "      <td>0</td>\n",
       "      <td>...</td>\n",
       "      <td>0</td>\n",
       "      <td>0</td>\n",
       "      <td>0</td>\n",
       "      <td>0</td>\n",
       "      <td>0</td>\n",
       "      <td>0</td>\n",
       "      <td>0</td>\n",
       "      <td>0</td>\n",
       "      <td>0</td>\n",
       "      <td>0</td>\n",
       "    </tr>\n",
       "  </tbody>\n",
       "</table>\n",
       "<p>5 rows × 784 columns</p>\n",
       "</div>"
      ],
      "text/plain": [
       "   1x1  1x2  1x3  1x4  1x5  1x6  1x7  1x8  1x9  1x10  ...  28x19  28x20  \\\n",
       "0    0    0    0    0    0    0    0    0    0     0  ...      0      0   \n",
       "1    0    0    0    0    0    0    0    0    0     0  ...      0      0   \n",
       "2    0    0    0    0    0    0    0    0    0     0  ...      0      0   \n",
       "3    0    0    0    0    0    0    0    0    0     0  ...      0      0   \n",
       "4    0    0    0    0    0    0    0    0    0     0  ...      0      0   \n",
       "\n",
       "   28x21  28x22  28x23  28x24  28x25  28x26  28x27  28x28  \n",
       "0      0      0      0      0      0      0      0      0  \n",
       "1      0      0      0      0      0      0      0      0  \n",
       "2      0      0      0      0      0      0      0      0  \n",
       "3      0      0      0      0      0      0      0      0  \n",
       "4      0      0      0      0      0      0      0      0  \n",
       "\n",
       "[5 rows x 784 columns]"
      ]
     },
     "execution_count": 8,
     "metadata": {},
     "output_type": "execute_result"
    }
   ],
   "source": [
    "train_images.head()"
   ]
  },
  {
   "cell_type": "code",
   "execution_count": 9,
   "id": "eacba61a",
   "metadata": {
    "execution": {
     "iopub.execute_input": "2024-03-22T12:11:03.492889Z",
     "iopub.status.busy": "2024-03-22T12:11:03.492624Z",
     "iopub.status.idle": "2024-03-22T12:11:03.498405Z",
     "shell.execute_reply": "2024-03-22T12:11:03.497611Z"
    },
    "papermill": {
     "duration": 0.015882,
     "end_time": "2024-03-22T12:11:03.500180",
     "exception": false,
     "start_time": "2024-03-22T12:11:03.484298",
     "status": "completed"
    },
    "tags": []
   },
   "outputs": [
    {
     "data": {
      "text/plain": [
       "0    5\n",
       "1    0\n",
       "2    4\n",
       "3    1\n",
       "4    9\n",
       "Name: label, dtype: int64"
      ]
     },
     "execution_count": 9,
     "metadata": {},
     "output_type": "execute_result"
    }
   ],
   "source": [
    "train_labels.head()"
   ]
  },
  {
   "cell_type": "code",
   "execution_count": 10,
   "id": "dedffa75",
   "metadata": {
    "execution": {
     "iopub.execute_input": "2024-03-22T12:11:03.517866Z",
     "iopub.status.busy": "2024-03-22T12:11:03.517576Z",
     "iopub.status.idle": "2024-03-22T12:11:03.532099Z",
     "shell.execute_reply": "2024-03-22T12:11:03.531235Z"
    },
    "papermill": {
     "duration": 0.025428,
     "end_time": "2024-03-22T12:11:03.534648",
     "exception": false,
     "start_time": "2024-03-22T12:11:03.509220",
     "status": "completed"
    },
    "tags": []
   },
   "outputs": [
    {
     "data": {
      "text/html": [
       "<div>\n",
       "<style scoped>\n",
       "    .dataframe tbody tr th:only-of-type {\n",
       "        vertical-align: middle;\n",
       "    }\n",
       "\n",
       "    .dataframe tbody tr th {\n",
       "        vertical-align: top;\n",
       "    }\n",
       "\n",
       "    .dataframe thead th {\n",
       "        text-align: right;\n",
       "    }\n",
       "</style>\n",
       "<table border=\"1\" class=\"dataframe\">\n",
       "  <thead>\n",
       "    <tr style=\"text-align: right;\">\n",
       "      <th></th>\n",
       "      <th>1x1</th>\n",
       "      <th>1x2</th>\n",
       "      <th>1x3</th>\n",
       "      <th>1x4</th>\n",
       "      <th>1x5</th>\n",
       "      <th>1x6</th>\n",
       "      <th>1x7</th>\n",
       "      <th>1x8</th>\n",
       "      <th>1x9</th>\n",
       "      <th>1x10</th>\n",
       "      <th>...</th>\n",
       "      <th>28x19</th>\n",
       "      <th>28x20</th>\n",
       "      <th>28x21</th>\n",
       "      <th>28x22</th>\n",
       "      <th>28x23</th>\n",
       "      <th>28x24</th>\n",
       "      <th>28x25</th>\n",
       "      <th>28x26</th>\n",
       "      <th>28x27</th>\n",
       "      <th>28x28</th>\n",
       "    </tr>\n",
       "  </thead>\n",
       "  <tbody>\n",
       "    <tr>\n",
       "      <th>0</th>\n",
       "      <td>0</td>\n",
       "      <td>0</td>\n",
       "      <td>0</td>\n",
       "      <td>0</td>\n",
       "      <td>0</td>\n",
       "      <td>0</td>\n",
       "      <td>0</td>\n",
       "      <td>0</td>\n",
       "      <td>0</td>\n",
       "      <td>0</td>\n",
       "      <td>...</td>\n",
       "      <td>0</td>\n",
       "      <td>0</td>\n",
       "      <td>0</td>\n",
       "      <td>0</td>\n",
       "      <td>0</td>\n",
       "      <td>0</td>\n",
       "      <td>0</td>\n",
       "      <td>0</td>\n",
       "      <td>0</td>\n",
       "      <td>0</td>\n",
       "    </tr>\n",
       "    <tr>\n",
       "      <th>1</th>\n",
       "      <td>0</td>\n",
       "      <td>0</td>\n",
       "      <td>0</td>\n",
       "      <td>0</td>\n",
       "      <td>0</td>\n",
       "      <td>0</td>\n",
       "      <td>0</td>\n",
       "      <td>0</td>\n",
       "      <td>0</td>\n",
       "      <td>0</td>\n",
       "      <td>...</td>\n",
       "      <td>0</td>\n",
       "      <td>0</td>\n",
       "      <td>0</td>\n",
       "      <td>0</td>\n",
       "      <td>0</td>\n",
       "      <td>0</td>\n",
       "      <td>0</td>\n",
       "      <td>0</td>\n",
       "      <td>0</td>\n",
       "      <td>0</td>\n",
       "    </tr>\n",
       "    <tr>\n",
       "      <th>2</th>\n",
       "      <td>0</td>\n",
       "      <td>0</td>\n",
       "      <td>0</td>\n",
       "      <td>0</td>\n",
       "      <td>0</td>\n",
       "      <td>0</td>\n",
       "      <td>0</td>\n",
       "      <td>0</td>\n",
       "      <td>0</td>\n",
       "      <td>0</td>\n",
       "      <td>...</td>\n",
       "      <td>0</td>\n",
       "      <td>0</td>\n",
       "      <td>0</td>\n",
       "      <td>0</td>\n",
       "      <td>0</td>\n",
       "      <td>0</td>\n",
       "      <td>0</td>\n",
       "      <td>0</td>\n",
       "      <td>0</td>\n",
       "      <td>0</td>\n",
       "    </tr>\n",
       "    <tr>\n",
       "      <th>3</th>\n",
       "      <td>0</td>\n",
       "      <td>0</td>\n",
       "      <td>0</td>\n",
       "      <td>0</td>\n",
       "      <td>0</td>\n",
       "      <td>0</td>\n",
       "      <td>0</td>\n",
       "      <td>0</td>\n",
       "      <td>0</td>\n",
       "      <td>0</td>\n",
       "      <td>...</td>\n",
       "      <td>0</td>\n",
       "      <td>0</td>\n",
       "      <td>0</td>\n",
       "      <td>0</td>\n",
       "      <td>0</td>\n",
       "      <td>0</td>\n",
       "      <td>0</td>\n",
       "      <td>0</td>\n",
       "      <td>0</td>\n",
       "      <td>0</td>\n",
       "    </tr>\n",
       "    <tr>\n",
       "      <th>4</th>\n",
       "      <td>0</td>\n",
       "      <td>0</td>\n",
       "      <td>0</td>\n",
       "      <td>0</td>\n",
       "      <td>0</td>\n",
       "      <td>0</td>\n",
       "      <td>0</td>\n",
       "      <td>0</td>\n",
       "      <td>0</td>\n",
       "      <td>0</td>\n",
       "      <td>...</td>\n",
       "      <td>0</td>\n",
       "      <td>0</td>\n",
       "      <td>0</td>\n",
       "      <td>0</td>\n",
       "      <td>0</td>\n",
       "      <td>0</td>\n",
       "      <td>0</td>\n",
       "      <td>0</td>\n",
       "      <td>0</td>\n",
       "      <td>0</td>\n",
       "    </tr>\n",
       "  </tbody>\n",
       "</table>\n",
       "<p>5 rows × 784 columns</p>\n",
       "</div>"
      ],
      "text/plain": [
       "   1x1  1x2  1x3  1x4  1x5  1x6  1x7  1x8  1x9  1x10  ...  28x19  28x20  \\\n",
       "0    0    0    0    0    0    0    0    0    0     0  ...      0      0   \n",
       "1    0    0    0    0    0    0    0    0    0     0  ...      0      0   \n",
       "2    0    0    0    0    0    0    0    0    0     0  ...      0      0   \n",
       "3    0    0    0    0    0    0    0    0    0     0  ...      0      0   \n",
       "4    0    0    0    0    0    0    0    0    0     0  ...      0      0   \n",
       "\n",
       "   28x21  28x22  28x23  28x24  28x25  28x26  28x27  28x28  \n",
       "0      0      0      0      0      0      0      0      0  \n",
       "1      0      0      0      0      0      0      0      0  \n",
       "2      0      0      0      0      0      0      0      0  \n",
       "3      0      0      0      0      0      0      0      0  \n",
       "4      0      0      0      0      0      0      0      0  \n",
       "\n",
       "[5 rows x 784 columns]"
      ]
     },
     "execution_count": 10,
     "metadata": {},
     "output_type": "execute_result"
    }
   ],
   "source": [
    "test_images.head()"
   ]
  },
  {
   "cell_type": "code",
   "execution_count": 11,
   "id": "2a599e41",
   "metadata": {
    "execution": {
     "iopub.execute_input": "2024-03-22T12:11:03.552902Z",
     "iopub.status.busy": "2024-03-22T12:11:03.552612Z",
     "iopub.status.idle": "2024-03-22T12:11:03.558245Z",
     "shell.execute_reply": "2024-03-22T12:11:03.557436Z"
    },
    "papermill": {
     "duration": 0.016197,
     "end_time": "2024-03-22T12:11:03.560151",
     "exception": false,
     "start_time": "2024-03-22T12:11:03.543954",
     "status": "completed"
    },
    "tags": []
   },
   "outputs": [
    {
     "data": {
      "text/plain": [
       "0    7\n",
       "1    2\n",
       "2    1\n",
       "3    0\n",
       "4    4\n",
       "Name: label, dtype: int64"
      ]
     },
     "execution_count": 11,
     "metadata": {},
     "output_type": "execute_result"
    }
   ],
   "source": [
    "test_labels.head()"
   ]
  },
  {
   "cell_type": "code",
   "execution_count": 12,
   "id": "5033b51a",
   "metadata": {
    "execution": {
     "iopub.execute_input": "2024-03-22T12:11:03.577332Z",
     "iopub.status.busy": "2024-03-22T12:11:03.577077Z",
     "iopub.status.idle": "2024-03-22T12:11:03.583182Z",
     "shell.execute_reply": "2024-03-22T12:11:03.582373Z"
    },
    "papermill": {
     "duration": 0.017039,
     "end_time": "2024-03-22T12:11:03.585324",
     "exception": false,
     "start_time": "2024-03-22T12:11:03.568285",
     "status": "completed"
    },
    "tags": []
   },
   "outputs": [
    {
     "data": {
      "text/plain": [
       "(1x1      0\n",
       " 1x2      0\n",
       " 1x3      0\n",
       " 1x4      0\n",
       " 1x5      0\n",
       "         ..\n",
       " 28x24    0\n",
       " 28x25    0\n",
       " 28x26    0\n",
       " 28x27    0\n",
       " 28x28    0\n",
       " Name: 0, Length: 784, dtype: int64,\n",
       " 5)"
      ]
     },
     "execution_count": 12,
     "metadata": {},
     "output_type": "execute_result"
    }
   ],
   "source": [
    "train_images.loc[0], train_labels.loc[0]"
   ]
  },
  {
   "cell_type": "code",
   "execution_count": 13,
   "id": "9e995cbb",
   "metadata": {
    "execution": {
     "iopub.execute_input": "2024-03-22T12:11:03.603137Z",
     "iopub.status.busy": "2024-03-22T12:11:03.602885Z",
     "iopub.status.idle": "2024-03-22T12:11:03.929615Z",
     "shell.execute_reply": "2024-03-22T12:11:03.928745Z"
    },
    "papermill": {
     "duration": 0.337696,
     "end_time": "2024-03-22T12:11:03.931693",
     "exception": false,
     "start_time": "2024-03-22T12:11:03.593997",
     "status": "completed"
    },
    "tags": []
   },
   "outputs": [
    {
     "data": {
      "image/png": "[encoded data removed]",
      "text/plain": [
       "<Figure size 640x480 with 2 Axes>"
      ]
     },
     "metadata": {},
     "output_type": "display_data"
    }
   ],
   "source": [
    "# Visualize the first and second images\n",
    "plt.subplot(1, 2, 1)  # Subplot 1\n",
    "plt.imshow(train_images.loc[0].values.reshape(28, 28), cmap='gray')\n",
    "plt.title(f'{train_labels.loc[0]}')\n",
    "\n",
    "plt.subplot(1, 2, 2)  # Subplot 2\n",
    "plt.imshow(train_images.loc[1].values.reshape(28, 28), cmap='gray')\n",
    "plt.title(f'{train_labels.loc[1]}')\n",
    "\n",
    "plt.show()"
   ]
  },
  {
   "cell_type": "code",
   "execution_count": 14,
   "id": "e8128663",
   "metadata": {
    "execution": {
     "iopub.execute_input": "2024-03-22T12:11:03.950278Z",
     "iopub.status.busy": "2024-03-22T12:11:03.949735Z",
     "iopub.status.idle": "2024-03-22T12:11:04.032861Z",
     "shell.execute_reply": "2024-03-22T12:11:04.031861Z"
    },
    "papermill": {
     "duration": 0.094683,
     "end_time": "2024-03-22T12:11:04.035136",
     "exception": false,
     "start_time": "2024-03-22T12:11:03.940453",
     "status": "completed"
    },
    "tags": []
   },
   "outputs": [],
   "source": [
    "train_images, test_images = train_images / 255.0, test_images / 255.0"
   ]
  },
  {
   "cell_type": "code",
   "execution_count": 15,
   "id": "bbe91d10",
   "metadata": {
    "execution": {
     "iopub.execute_input": "2024-03-22T12:11:04.053772Z",
     "iopub.status.busy": "2024-03-22T12:11:04.053460Z",
     "iopub.status.idle": "2024-03-22T12:11:04.058905Z",
     "shell.execute_reply": "2024-03-22T12:11:04.057790Z"
    },
    "papermill": {
     "duration": 0.017937,
     "end_time": "2024-03-22T12:11:04.061935",
     "exception": false,
     "start_time": "2024-03-22T12:11:04.043998",
     "status": "completed"
    },
    "tags": []
   },
   "outputs": [],
   "source": [
    "# Add a channel dimension\n",
    "train_images = train_images.values.reshape(-1, 28, 28, 1)\n",
    "test_images = test_images.values.reshape(-1, 28, 28, 1)"
   ]
  },
  {
   "cell_type": "code",
   "execution_count": 16,
   "id": "531292c6",
   "metadata": {
    "execution": {
     "iopub.execute_input": "2024-03-22T12:11:04.084292Z",
     "iopub.status.busy": "2024-03-22T12:11:04.083609Z",
     "iopub.status.idle": "2024-03-22T12:11:05.869962Z",
     "shell.execute_reply": "2024-03-22T12:11:05.869188Z"
    },
    "papermill": {
     "duration": 1.800693,
     "end_time": "2024-03-22T12:11:05.872273",
     "exception": false,
     "start_time": "2024-03-22T12:11:04.071580",
     "status": "completed"
    },
    "tags": []
   },
   "outputs": [],
   "source": [
    "# Create TensorFlow datasets\n",
    "train_ds = tf.data.Dataset.from_tensor_slices((train_images, train_labels)).shuffle(10000).batch(64)\n",
    "test_ds = tf.data.Dataset.from_tensor_slices((test_images, test_labels)).batch(64)"
   ]
  },
  {
   "cell_type": "code",
   "execution_count": 17,
   "id": "9a1105a1",
   "metadata": {
    "execution": {
     "iopub.execute_input": "2024-03-22T12:11:05.890961Z",
     "iopub.status.busy": "2024-03-22T12:11:05.890662Z",
     "iopub.status.idle": "2024-03-22T12:11:05.970508Z",
     "shell.execute_reply": "2024-03-22T12:11:05.969797Z"
    },
    "papermill": {
     "duration": 0.091726,
     "end_time": "2024-03-22T12:11:05.972906",
     "exception": false,
     "start_time": "2024-03-22T12:11:05.881180",
     "status": "completed"
    },
    "tags": []
   },
   "outputs": [],
   "source": [
    "# Define the CNN model\n",
    "model = models.Sequential([\n",
    "    layers.Input(shape=(28, 28, 1)),\n",
    "    layers.Conv2D(32, (3, 3), activation='relu'),\n",
    "    layers.MaxPooling2D((2, 2)),\n",
    "    layers.Conv2D(64, (3, 3), activation='relu'),\n",
    "    layers.MaxPooling2D((2, 2)),\n",
    "    layers.Flatten(),\n",
    "    layers.Dense(128, activation='relu'),\n",
    "    layers.Dense(10)\n",
    "])"
   ]
  },
  {
   "cell_type": "code",
   "execution_count": 18,
   "id": "46d94e2b",
   "metadata": {
    "execution": {
     "iopub.execute_input": "2024-03-22T12:11:05.991611Z",
     "iopub.status.busy": "2024-03-22T12:11:05.991336Z",
     "iopub.status.idle": "2024-03-22T12:11:06.001961Z",
     "shell.execute_reply": "2024-03-22T12:11:06.001118Z"
    },
    "papermill": {
     "duration": 0.021704,
     "end_time": "2024-03-22T12:11:06.003858",
     "exception": false,
     "start_time": "2024-03-22T12:11:05.982154",
     "status": "completed"
    },
    "tags": []
   },
   "outputs": [],
   "source": [
    "# Compile the model\n",
    "model.compile(optimizer='Adam',\n",
    "              loss=losses.SparseCategoricalCrossentropy(from_logits=True),\n",
    "              metrics=['accuracy'])"
   ]
  },
  {
   "cell_type": "code",
   "execution_count": 19,
   "id": "a5e252ce",
   "metadata": {
    "execution": {
     "iopub.execute_input": "2024-03-22T12:11:06.021924Z",
     "iopub.status.busy": "2024-03-22T12:11:06.021651Z",
     "iopub.status.idle": "2024-03-22T12:12:04.587748Z",
     "shell.execute_reply": "2024-03-22T12:12:04.586700Z"
    },
    "papermill": {
     "duration": 58.577521,
     "end_time": "2024-03-22T12:12:04.589950",
     "exception": false,
     "start_time": "2024-03-22T12:11:06.012429",
     "status": "completed"
    },
    "tags": []
   },
   "outputs": [
    {
     "name": "stdout",
     "output_type": "stream",
     "text": [
      "Epoch 1/25\n",
      "\u001b[1m 68/938\u001b[0m \u001b[32m━\u001b[0m\u001b[37m━━━━━━━━━━━━━━━━━━━\u001b[0m \u001b[1m1s\u001b[0m 2ms/step - accuracy: 0.6098 - loss: 1.3705"
     ]
    },
    {
     "name": "stderr",
     "output_type": "stream",
     "text": [
      "WARNING: All log messages before absl::InitializeLog() is called are written to STDERR\n",
      "I0000 00:00:1711109470.977246      74 device_compiler.h:186] Compiled cluster using XLA!  This line is logged at most once for the lifetime of the process.\n",
      "W0000 00:00:1711109470.993862      74 graph_launch.cc:671] Fallback to op-by-op mode because memset node breaks graph update\n"
     ]
    },
    {
     "name": "stdout",
     "output_type": "stream",
     "text": [
      "\u001b[1m938/938\u001b[0m \u001b[32m━━━━━━━━━━━━━━━━━━━━\u001b[0m\u001b[37m\u001b[0m \u001b[1m9s\u001b[0m 4ms/step - accuracy: 0.8971 - loss: 0.3574\n",
      "Epoch 2/25\n",
      "\u001b[1m 71/938\u001b[0m \u001b[32m━\u001b[0m\u001b[37m━━━━━━━━━━━━━━━━━━━\u001b[0m \u001b[1m1s\u001b[0m 2ms/step - accuracy: 0.9827 - loss: 0.0702"
     ]
    },
    {
     "name": "stderr",
     "output_type": "stream",
     "text": [
      "W0000 00:00:1711109474.555421      76 graph_launch.cc:671] Fallback to op-by-op mode because memset node breaks graph update\n"
     ]
    },
    {
     "name": "stdout",
     "output_type": "stream",
     "text": [
      "\u001b[1m938/938\u001b[0m \u001b[32m━━━━━━━━━━━━━━━━━━━━\u001b[0m\u001b[37m\u001b[0m \u001b[1m2s\u001b[0m 2ms/step - accuracy: 0.9849 - loss: 0.0524\n",
      "Epoch 3/25\n",
      "\u001b[1m938/938\u001b[0m \u001b[32m━━━━━━━━━━━━━━━━━━━━\u001b[0m\u001b[37m\u001b[0m \u001b[1m2s\u001b[0m 2ms/step - accuracy: 0.9889 - loss: 0.0343\n",
      "Epoch 4/25\n",
      "\u001b[1m938/938\u001b[0m \u001b[32m━━━━━━━━━━━━━━━━━━━━\u001b[0m\u001b[37m\u001b[0m \u001b[1m2s\u001b[0m 2ms/step - accuracy: 0.9924 - loss: 0.0247\n",
      "Epoch 5/25\n",
      "\u001b[1m938/938\u001b[0m \u001b[32m━━━━━━━━━━━━━━━━━━━━\u001b[0m\u001b[37m\u001b[0m \u001b[1m2s\u001b[0m 2ms/step - accuracy: 0.9944 - loss: 0.0183\n",
      "Epoch 6/25\n",
      "\u001b[1m938/938\u001b[0m \u001b[32m━━━━━━━━━━━━━━━━━━━━\u001b[0m\u001b[37m\u001b[0m \u001b[1m2s\u001b[0m 2ms/step - accuracy: 0.9951 - loss: 0.0151\n",
      "Epoch 7/25\n",
      "\u001b[1m938/938\u001b[0m \u001b[32m━━━━━━━━━━━━━━━━━━━━\u001b[0m\u001b[37m\u001b[0m \u001b[1m2s\u001b[0m 2ms/step - accuracy: 0.9968 - loss: 0.0101\n",
      "Epoch 8/25\n",
      "\u001b[1m938/938\u001b[0m \u001b[32m━━━━━━━━━━━━━━━━━━━━\u001b[0m\u001b[37m\u001b[0m \u001b[1m2s\u001b[0m 2ms/step - accuracy: 0.9973 - loss: 0.0085\n",
      "Epoch 9/25\n",
      "\u001b[1m938/938\u001b[0m \u001b[32m━━━━━━━━━━━━━━━━━━━━\u001b[0m\u001b[37m\u001b[0m \u001b[1m2s\u001b[0m 2ms/step - accuracy: 0.9988 - loss: 0.0046\n",
      "Epoch 10/25\n",
      "\u001b[1m938/938\u001b[0m \u001b[32m━━━━━━━━━━━━━━━━━━━━\u001b[0m\u001b[37m\u001b[0m \u001b[1m2s\u001b[0m 2ms/step - accuracy: 0.9976 - loss: 0.0069\n",
      "Epoch 11/25\n",
      "\u001b[1m938/938\u001b[0m \u001b[32m━━━━━━━━━━━━━━━━━━━━\u001b[0m\u001b[37m\u001b[0m \u001b[1m2s\u001b[0m 2ms/step - accuracy: 0.9979 - loss: 0.0057\n",
      "Epoch 12/25\n",
      "\u001b[1m938/938\u001b[0m \u001b[32m━━━━━━━━━━━━━━━━━━━━\u001b[0m\u001b[37m\u001b[0m \u001b[1m2s\u001b[0m 2ms/step - accuracy: 0.9974 - loss: 0.0071\n",
      "Epoch 13/25\n",
      "\u001b[1m938/938\u001b[0m \u001b[32m━━━━━━━━━━━━━━━━━━━━\u001b[0m\u001b[37m\u001b[0m \u001b[1m2s\u001b[0m 2ms/step - accuracy: 0.9979 - loss: 0.0057\n",
      "Epoch 14/25\n",
      "\u001b[1m938/938\u001b[0m \u001b[32m━━━━━━━━━━━━━━━━━━━━\u001b[0m\u001b[37m\u001b[0m \u001b[1m2s\u001b[0m 2ms/step - accuracy: 0.9989 - loss: 0.0028\n",
      "Epoch 15/25\n",
      "\u001b[1m938/938\u001b[0m \u001b[32m━━━━━━━━━━━━━━━━━━━━\u001b[0m\u001b[37m\u001b[0m \u001b[1m2s\u001b[0m 2ms/step - accuracy: 0.9981 - loss: 0.0046\n",
      "Epoch 16/25\n",
      "\u001b[1m938/938\u001b[0m \u001b[32m━━━━━━━━━━━━━━━━━━━━\u001b[0m\u001b[37m\u001b[0m \u001b[1m2s\u001b[0m 2ms/step - accuracy: 0.9987 - loss: 0.0038\n",
      "Epoch 17/25\n",
      "\u001b[1m938/938\u001b[0m \u001b[32m━━━━━━━━━━━━━━━━━━━━\u001b[0m\u001b[37m\u001b[0m \u001b[1m2s\u001b[0m 2ms/step - accuracy: 0.9987 - loss: 0.0039\n",
      "Epoch 18/25\n",
      "\u001b[1m938/938\u001b[0m \u001b[32m━━━━━━━━━━━━━━━━━━━━\u001b[0m\u001b[37m\u001b[0m \u001b[1m2s\u001b[0m 2ms/step - accuracy: 0.9988 - loss: 0.0040\n",
      "Epoch 19/25\n",
      "\u001b[1m938/938\u001b[0m \u001b[32m━━━━━━━━━━━━━━━━━━━━\u001b[0m\u001b[37m\u001b[0m \u001b[1m2s\u001b[0m 2ms/step - accuracy: 0.9996 - loss: 0.0011\n",
      "Epoch 20/25\n",
      "\u001b[1m938/938\u001b[0m \u001b[32m━━━━━━━━━━━━━━━━━━━━\u001b[0m\u001b[37m\u001b[0m \u001b[1m2s\u001b[0m 2ms/step - accuracy: 1.0000 - loss: 4.7383e-05\n",
      "Epoch 21/25\n",
      "\u001b[1m938/938\u001b[0m \u001b[32m━━━━━━━━━━━━━━━━━━━━\u001b[0m\u001b[37m\u001b[0m \u001b[1m2s\u001b[0m 2ms/step - accuracy: 1.0000 - loss: 1.3435e-05\n",
      "Epoch 22/25\n",
      "\u001b[1m938/938\u001b[0m \u001b[32m━━━━━━━━━━━━━━━━━━━━\u001b[0m\u001b[37m\u001b[0m \u001b[1m2s\u001b[0m 2ms/step - accuracy: 1.0000 - loss: 7.1821e-06\n",
      "Epoch 23/25\n",
      "\u001b[1m938/938\u001b[0m \u001b[32m━━━━━━━━━━━━━━━━━━━━\u001b[0m\u001b[37m\u001b[0m \u001b[1m2s\u001b[0m 2ms/step - accuracy: 1.0000 - loss: 4.6657e-06\n",
      "Epoch 24/25\n",
      "\u001b[1m938/938\u001b[0m \u001b[32m━━━━━━━━━━━━━━━━━━━━\u001b[0m\u001b[37m\u001b[0m \u001b[1m2s\u001b[0m 2ms/step - accuracy: 1.0000 - loss: 2.7209e-06\n",
      "Epoch 25/25\n",
      "\u001b[1m938/938\u001b[0m \u001b[32m━━━━━━━━━━━━━━━━━━━━\u001b[0m\u001b[37m\u001b[0m \u001b[1m2s\u001b[0m 2ms/step - accuracy: 0.9999 - loss: 3.0315e-04\n"
     ]
    }
   ],
   "source": [
    "# Train the model\n",
    "history = model.fit(train_ds, epochs=25)"
   ]
  },
  {
   "cell_type": "code",
   "execution_count": 20,
   "id": "1d96f493",
   "metadata": {
    "execution": {
     "iopub.execute_input": "2024-03-22T12:12:04.794913Z",
     "iopub.status.busy": "2024-03-22T12:12:04.794584Z",
     "iopub.status.idle": "2024-03-22T12:12:06.227510Z",
     "shell.execute_reply": "2024-03-22T12:12:06.226538Z"
    },
    "papermill": {
     "duration": 1.534317,
     "end_time": "2024-03-22T12:12:06.229537",
     "exception": false,
     "start_time": "2024-03-22T12:12:04.695220",
     "status": "completed"
    },
    "tags": []
   },
   "outputs": [
    {
     "name": "stderr",
     "output_type": "stream",
     "text": [
      "W0000 00:00:1711109525.351913      74 graph_launch.cc:671] Fallback to op-by-op mode because memset node breaks graph update\n"
     ]
    },
    {
     "name": "stdout",
     "output_type": "stream",
     "text": [
      "157/157 - 1s - 9ms/step - accuracy: 0.9878 - loss: 0.0601\n",
      "\n",
      "Test accuracy: 0.9878000020980835\n"
     ]
    },
    {
     "name": "stderr",
     "output_type": "stream",
     "text": [
      "W0000 00:00:1711109526.219362      75 graph_launch.cc:671] Fallback to op-by-op mode because memset node breaks graph update\n"
     ]
    }
   ],
   "source": [
    "# Evaluate the model\n",
    "test_loss, test_acc = model.evaluate(test_ds, verbose=2)\n",
    "print('\\nTest accuracy:', test_acc)"
   ]
  },
  {
   "cell_type": "code",
   "execution_count": 21,
   "id": "d22d9bb9",
   "metadata": {
    "execution": {
     "iopub.execute_input": "2024-03-22T12:12:06.456740Z",
     "iopub.status.busy": "2024-03-22T12:12:06.456103Z",
     "iopub.status.idle": "2024-03-22T12:12:06.929119Z",
     "shell.execute_reply": "2024-03-22T12:12:06.927996Z"
    },
    "papermill": {
     "duration": 0.609695,
     "end_time": "2024-03-22T12:12:06.931471",
     "exception": false,
     "start_time": "2024-03-22T12:12:06.321776",
     "status": "completed"
    },
    "tags": []
   },
   "outputs": [
    {
     "data": {
      "text/plain": [
       "[<matplotlib.lines.Line2D at 0x798fbae85720>]"
      ]
     },
     "execution_count": 21,
     "metadata": {},
     "output_type": "execute_result"
    },
    {
     "data": {
      "image/png": "[encoded data removed]",
      "text/plain": [
       "<Figure size 640x480 with 1 Axes>"
      ]
     },
     "metadata": {},
     "output_type": "display_data"
    }
   ],
   "source": [
    "plt.plot(history.history['loss'])"
   ]
  },
  {
   "cell_type": "code",
   "execution_count": 22,
   "id": "85d54941",
   "metadata": {
    "execution": {
     "iopub.execute_input": "2024-03-22T12:12:07.123713Z",
     "iopub.status.busy": "2024-03-22T12:12:07.123039Z",
     "iopub.status.idle": "2024-03-22T12:12:07.361657Z",
     "shell.execute_reply": "2024-03-22T12:12:07.360666Z"
    },
    "papermill": {
     "duration": 0.33517,
     "end_time": "2024-03-22T12:12:07.363681",
     "exception": false,
     "start_time": "2024-03-22T12:12:07.028511",
     "status": "completed"
    },
    "tags": []
   },
   "outputs": [
    {
     "data": {
      "text/plain": [
       "[<matplotlib.lines.Line2D at 0x798fb80c78b0>]"
      ]
     },
     "execution_count": 22,
     "metadata": {},
     "output_type": "execute_result"
    },
    {
     "data": {
      "image/png": "[encoded data removed]",
      "text/plain": [
       "<Figure size 640x480 with 1 Axes>"
      ]
     },
     "metadata": {},
     "output_type": "display_data"
    }
   ],
   "source": [
    "plt.plot(history.history['accuracy'])"
   ]
  },
  {
   "cell_type": "code",
   "execution_count": 23,
   "id": "a5b59ce9",
   "metadata": {
    "execution": {
     "iopub.execute_input": "2024-03-22T12:12:07.568183Z",
     "iopub.status.busy": "2024-03-22T12:12:07.567258Z",
     "iopub.status.idle": "2024-03-22T12:12:07.858728Z",
     "shell.execute_reply": "2024-03-22T12:12:07.857803Z"
    },
    "papermill": {
     "duration": 0.396289,
     "end_time": "2024-03-22T12:12:07.860861",
     "exception": false,
     "start_time": "2024-03-22T12:12:07.464572",
     "status": "completed"
    },
    "tags": []
   },
   "outputs": [
    {
     "data": {
      "text/plain": [
       "<matplotlib.image.AxesImage at 0x798fba3d6410>"
      ]
     },
     "execution_count": 23,
     "metadata": {},
     "output_type": "execute_result"
    },
    {
     "data": {
      "image/png": "[encoded data removed]",
      "text/plain": [
       "<Figure size 640x480 with 1 Axes>"
      ]
     },
     "metadata": {},
     "output_type": "display_data"
    }
   ],
   "source": [
    "plt.imshow(test_images.reshape(-1, 28, 28)[175])"
   ]
  },
  {
   "cell_type": "code",
   "execution_count": 24,
   "id": "ca4d7850",
   "metadata": {
    "execution": {
     "iopub.execute_input": "2024-03-22T12:12:08.051589Z",
     "iopub.status.busy": "2024-03-22T12:12:08.050762Z",
     "iopub.status.idle": "2024-03-22T12:12:08.674439Z",
     "shell.execute_reply": "2024-03-22T12:12:08.673622Z"
    },
    "papermill": {
     "duration": 0.720162,
     "end_time": "2024-03-22T12:12:08.676320",
     "exception": false,
     "start_time": "2024-03-22T12:12:07.956158",
     "status": "completed"
    },
    "tags": []
   },
   "outputs": [
    {
     "name": "stdout",
     "output_type": "stream",
     "text": [
      "\u001b[1m1/1\u001b[0m \u001b[32m━━━━━━━━━━━━━━━━━━━━\u001b[0m\u001b[37m\u001b[0m \u001b[1m1s\u001b[0m 565ms/step\n"
     ]
    },
    {
     "data": {
      "text/plain": [
       "array([7])"
      ]
     },
     "execution_count": 24,
     "metadata": {},
     "output_type": "execute_result"
    }
   ],
   "source": [
    "model.predict(test_images[175].reshape(1,28,28)).argmax(axis=1)"
   ]
  },
  {
   "cell_type": "code",
   "execution_count": null,
   "id": "0fc89d39",
   "metadata": {
    "papermill": {
     "duration": 0.094538,
     "end_time": "2024-03-22T12:12:08.865716",
     "exception": false,
     "start_time": "2024-03-22T12:12:08.771178",
     "status": "completed"
    },
    "tags": []
   },
   "outputs": [],
   "source": []
  }
 ],
 "metadata": {
  "kaggle": {
   "accelerator": "nvidiaTeslaT4",
   "dataSources": [
    {
     "datasetId": 27352,
     "sourceId": 34877,
     "sourceType": "datasetVersion"
    }
   ],
   "dockerImageVersionId": 30674,
   "isGpuEnabled": true,
   "isInternetEnabled": true,
   "language": "python",
   "sourceType": "notebook"
  },
  "kernelspec": {
   "display_name": "Python 3",
   "language": "python",
   "name": "python3"
  },
  "language_info": {
   "codemirror_mode": {
    "name": "ipython",
    "version": 3
   },
   "file_extension": ".py",
   "mimetype": "text/x-python",
   "name": "python",
   "nbconvert_exporter": "python",
   "pygments_lexer": "ipython3",
   "version": "3.10.13"
  },
  "papermill": {
   "default_parameters": {},
   "duration": 90.412892,
   "end_time": "2024-03-22T12:12:11.461383",
   "environment_variables": {},
   "exception": null,
   "input_path": "__notebook__.ipynb",
   "output_path": "__notebook__.ipynb",
   "parameters": {},
   "start_time": "2024-03-22T12:10:41.048491",
   "version": "2.5.0"
  }
 },
 "nbformat": 4,
 "nbformat_minor": 5
}
